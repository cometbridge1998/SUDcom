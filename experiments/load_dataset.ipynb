{
 "nbformat": 4,
 "nbformat_minor": 0,
 "metadata": {
  "colab": {
   "provenance": []
  },
  "kernelspec": {
   "name": "python3",
   "display_name": "Python 3"
  },
  "language_info": {
   "name": "python"
  }
 },
 "cells": [
  {
   "cell_type": "code",
   "source": [
    "!pip install textcomplexity"
   ],
   "metadata": {
    "id": "U_ew5qVEnNZS"
   },
   "execution_count": null,
   "outputs": []
  },
  {
   "cell_type": "code",
   "source": [
    "!pip install stanza"
   ],
   "metadata": {
    "id": "PVwxMfUucXc9"
   },
   "execution_count": null,
   "outputs": []
  },
  {
   "cell_type": "code",
   "source": [
    "import stanza\n",
    "stanza.download('en')"
   ],
   "metadata": {
    "id": "hIsCT1hejb3U"
   },
   "execution_count": null,
   "outputs": []
  },
  {
   "cell_type": "code",
   "source": [
    "nlp = stanza.Pipeline('en')"
   ],
   "metadata": {
    "id": "JcgUEwURjinx"
   },
   "execution_count": null,
   "outputs": []
  },
  {
   "cell_type": "code",
   "source": [
    "import pandas as pd"
   ],
   "metadata": {
    "id": "Pfo8EGyHkfFp"
   },
   "execution_count": null,
   "outputs": []
  },
  {
   "cell_type": "code",
   "source": "df = pd.read_csv('/dataset/cefr_leveled_texts.csv')",
   "metadata": {
    "id": "AkcPuudekfIX"
   },
   "execution_count": null,
   "outputs": []
  },
  {
   "cell_type": "code",
   "source": [
    "df.head()"
   ],
   "metadata": {
    "colab": {
     "base_uri": "https://localhost:8080/",
     "height": 206
    },
    "id": "tJ8rOFDlkvOJ",
    "outputId": "a7c8f9ed-950a-42d9-8884-256ce641010f"
   },
   "execution_count": null,
   "outputs": [
    {
     "output_type": "execute_result",
     "data": {
      "text/plain": [
       "                                                text label\n",
       "0  Hi!\\nI've been meaning to write for ages and f...    B2\n",
       "1  ﻿It was not so much how hard people found the ...    B2\n",
       "2  Keith recently came back from a trip to Chicag...    B2\n",
       "3  The Griffith Observatory is a planetarium, and...    B2\n",
       "4  -LRB- The Hollywood Reporter -RRB- It's offici...    B2"
      ],
      "text/html": [
       "\n",
       "  <div id=\"df-7041d1b3-2ec1-4f63-bf5a-4d8a148e56c1\" class=\"colab-df-container\">\n",
       "    <div>\n",
       "<style scoped>\n",
       "    .dataframe tbody tr th:only-of-type {\n",
       "        vertical-align: middle;\n",
       "    }\n",
       "\n",
       "    .dataframe tbody tr th {\n",
       "        vertical-align: top;\n",
       "    }\n",
       "\n",
       "    .dataframe thead th {\n",
       "        text-align: right;\n",
       "    }\n",
       "</style>\n",
       "<table border=\"1\" class=\"dataframe\">\n",
       "  <thead>\n",
       "    <tr style=\"text-align: right;\">\n",
       "      <th></th>\n",
       "      <th>text</th>\n",
       "      <th>label</th>\n",
       "    </tr>\n",
       "  </thead>\n",
       "  <tbody>\n",
       "    <tr>\n",
       "      <th>0</th>\n",
       "      <td>Hi!\\nI've been meaning to write for ages and f...</td>\n",
       "      <td>B2</td>\n",
       "    </tr>\n",
       "    <tr>\n",
       "      <th>1</th>\n",
       "      <td>﻿It was not so much how hard people found the ...</td>\n",
       "      <td>B2</td>\n",
       "    </tr>\n",
       "    <tr>\n",
       "      <th>2</th>\n",
       "      <td>Keith recently came back from a trip to Chicag...</td>\n",
       "      <td>B2</td>\n",
       "    </tr>\n",
       "    <tr>\n",
       "      <th>3</th>\n",
       "      <td>The Griffith Observatory is a planetarium, and...</td>\n",
       "      <td>B2</td>\n",
       "    </tr>\n",
       "    <tr>\n",
       "      <th>4</th>\n",
       "      <td>-LRB- The Hollywood Reporter -RRB- It's offici...</td>\n",
       "      <td>B2</td>\n",
       "    </tr>\n",
       "  </tbody>\n",
       "</table>\n",
       "</div>\n",
       "    <div class=\"colab-df-buttons\">\n",
       "\n",
       "  <div class=\"colab-df-container\">\n",
       "    <button class=\"colab-df-convert\" onclick=\"convertToInteractive('df-7041d1b3-2ec1-4f63-bf5a-4d8a148e56c1')\"\n",
       "            title=\"Convert this dataframe to an interactive table.\"\n",
       "            style=\"display:none;\">\n",
       "\n",
       "  <svg xmlns=\"http://www.w3.org/2000/svg\" height=\"24px\" viewBox=\"0 -960 960 960\">\n",
       "    <path d=\"M120-120v-720h720v720H120Zm60-500h600v-160H180v160Zm220 220h160v-160H400v160Zm0 220h160v-160H400v160ZM180-400h160v-160H180v160Zm440 0h160v-160H620v160ZM180-180h160v-160H180v160Zm440 0h160v-160H620v160Z\"/>\n",
       "  </svg>\n",
       "    </button>\n",
       "\n",
       "  <style>\n",
       "    .colab-df-container {\n",
       "      display:flex;\n",
       "      gap: 12px;\n",
       "    }\n",
       "\n",
       "    .colab-df-convert {\n",
       "      background-color: #E8F0FE;\n",
       "      border: none;\n",
       "      border-radius: 50%;\n",
       "      cursor: pointer;\n",
       "      display: none;\n",
       "      fill: #1967D2;\n",
       "      height: 32px;\n",
       "      padding: 0 0 0 0;\n",
       "      width: 32px;\n",
       "    }\n",
       "\n",
       "    .colab-df-convert:hover {\n",
       "      background-color: #E2EBFA;\n",
       "      box-shadow: 0px 1px 2px rgba(60, 64, 67, 0.3), 0px 1px 3px 1px rgba(60, 64, 67, 0.15);\n",
       "      fill: #174EA6;\n",
       "    }\n",
       "\n",
       "    .colab-df-buttons div {\n",
       "      margin-bottom: 4px;\n",
       "    }\n",
       "\n",
       "    [theme=dark] .colab-df-convert {\n",
       "      background-color: #3B4455;\n",
       "      fill: #D2E3FC;\n",
       "    }\n",
       "\n",
       "    [theme=dark] .colab-df-convert:hover {\n",
       "      background-color: #434B5C;\n",
       "      box-shadow: 0px 1px 3px 1px rgba(0, 0, 0, 0.15);\n",
       "      filter: drop-shadow(0px 1px 2px rgba(0, 0, 0, 0.3));\n",
       "      fill: #FFFFFF;\n",
       "    }\n",
       "  </style>\n",
       "\n",
       "    <script>\n",
       "      const buttonEl =\n",
       "        document.querySelector('#df-7041d1b3-2ec1-4f63-bf5a-4d8a148e56c1 button.colab-df-convert');\n",
       "      buttonEl.style.display =\n",
       "        google.colab.kernel.accessAllowed ? 'block' : 'none';\n",
       "\n",
       "      async function convertToInteractive(key) {\n",
       "        const element = document.querySelector('#df-7041d1b3-2ec1-4f63-bf5a-4d8a148e56c1');\n",
       "        const dataTable =\n",
       "          await google.colab.kernel.invokeFunction('convertToInteractive',\n",
       "                                                    [key], {});\n",
       "        if (!dataTable) return;\n",
       "\n",
       "        const docLinkHtml = 'Like what you see? Visit the ' +\n",
       "          '<a target=\"_blank\" href=https://colab.research.google.com/notebooks/data_table.ipynb>data table notebook</a>'\n",
       "          + ' to learn more about interactive tables.';\n",
       "        element.innerHTML = '';\n",
       "        dataTable['output_type'] = 'display_data';\n",
       "        await google.colab.output.renderOutput(dataTable, element);\n",
       "        const docLink = document.createElement('div');\n",
       "        docLink.innerHTML = docLinkHtml;\n",
       "        element.appendChild(docLink);\n",
       "      }\n",
       "    </script>\n",
       "  </div>\n",
       "\n",
       "\n",
       "    <div id=\"df-36d75477-ab2a-4fc8-b246-2825b9244ba4\">\n",
       "      <button class=\"colab-df-quickchart\" onclick=\"quickchart('df-36d75477-ab2a-4fc8-b246-2825b9244ba4')\"\n",
       "                title=\"Suggest charts\"\n",
       "                style=\"display:none;\">\n",
       "\n",
       "<svg xmlns=\"http://www.w3.org/2000/svg\" height=\"24px\"viewBox=\"0 0 24 24\"\n",
       "     width=\"24px\">\n",
       "    <g>\n",
       "        <path d=\"M19 3H5c-1.1 0-2 .9-2 2v14c0 1.1.9 2 2 2h14c1.1 0 2-.9 2-2V5c0-1.1-.9-2-2-2zM9 17H7v-7h2v7zm4 0h-2V7h2v10zm4 0h-2v-4h2v4z\"/>\n",
       "    </g>\n",
       "</svg>\n",
       "      </button>\n",
       "\n",
       "<style>\n",
       "  .colab-df-quickchart {\n",
       "      --bg-color: #E8F0FE;\n",
       "      --fill-color: #1967D2;\n",
       "      --hover-bg-color: #E2EBFA;\n",
       "      --hover-fill-color: #174EA6;\n",
       "      --disabled-fill-color: #AAA;\n",
       "      --disabled-bg-color: #DDD;\n",
       "  }\n",
       "\n",
       "  [theme=dark] .colab-df-quickchart {\n",
       "      --bg-color: #3B4455;\n",
       "      --fill-color: #D2E3FC;\n",
       "      --hover-bg-color: #434B5C;\n",
       "      --hover-fill-color: #FFFFFF;\n",
       "      --disabled-bg-color: #3B4455;\n",
       "      --disabled-fill-color: #666;\n",
       "  }\n",
       "\n",
       "  .colab-df-quickchart {\n",
       "    background-color: var(--bg-color);\n",
       "    border: none;\n",
       "    border-radius: 50%;\n",
       "    cursor: pointer;\n",
       "    display: none;\n",
       "    fill: var(--fill-color);\n",
       "    height: 32px;\n",
       "    padding: 0;\n",
       "    width: 32px;\n",
       "  }\n",
       "\n",
       "  .colab-df-quickchart:hover {\n",
       "    background-color: var(--hover-bg-color);\n",
       "    box-shadow: 0 1px 2px rgba(60, 64, 67, 0.3), 0 1px 3px 1px rgba(60, 64, 67, 0.15);\n",
       "    fill: var(--button-hover-fill-color);\n",
       "  }\n",
       "\n",
       "  .colab-df-quickchart-complete:disabled,\n",
       "  .colab-df-quickchart-complete:disabled:hover {\n",
       "    background-color: var(--disabled-bg-color);\n",
       "    fill: var(--disabled-fill-color);\n",
       "    box-shadow: none;\n",
       "  }\n",
       "\n",
       "  .colab-df-spinner {\n",
       "    border: 2px solid var(--fill-color);\n",
       "    border-color: transparent;\n",
       "    border-bottom-color: var(--fill-color);\n",
       "    animation:\n",
       "      spin 1s steps(1) infinite;\n",
       "  }\n",
       "\n",
       "  @keyframes spin {\n",
       "    0% {\n",
       "      border-color: transparent;\n",
       "      border-bottom-color: var(--fill-color);\n",
       "      border-left-color: var(--fill-color);\n",
       "    }\n",
       "    20% {\n",
       "      border-color: transparent;\n",
       "      border-left-color: var(--fill-color);\n",
       "      border-top-color: var(--fill-color);\n",
       "    }\n",
       "    30% {\n",
       "      border-color: transparent;\n",
       "      border-left-color: var(--fill-color);\n",
       "      border-top-color: var(--fill-color);\n",
       "      border-right-color: var(--fill-color);\n",
       "    }\n",
       "    40% {\n",
       "      border-color: transparent;\n",
       "      border-right-color: var(--fill-color);\n",
       "      border-top-color: var(--fill-color);\n",
       "    }\n",
       "    60% {\n",
       "      border-color: transparent;\n",
       "      border-right-color: var(--fill-color);\n",
       "    }\n",
       "    80% {\n",
       "      border-color: transparent;\n",
       "      border-right-color: var(--fill-color);\n",
       "      border-bottom-color: var(--fill-color);\n",
       "    }\n",
       "    90% {\n",
       "      border-color: transparent;\n",
       "      border-bottom-color: var(--fill-color);\n",
       "    }\n",
       "  }\n",
       "</style>\n",
       "\n",
       "      <script>\n",
       "        async function quickchart(key) {\n",
       "          const quickchartButtonEl =\n",
       "            document.querySelector('#' + key + ' button');\n",
       "          quickchartButtonEl.disabled = true;  // To prevent multiple clicks.\n",
       "          quickchartButtonEl.classList.add('colab-df-spinner');\n",
       "          try {\n",
       "            const charts = await google.colab.kernel.invokeFunction(\n",
       "                'suggestCharts', [key], {});\n",
       "          } catch (error) {\n",
       "            console.error('Error during call to suggestCharts:', error);\n",
       "          }\n",
       "          quickchartButtonEl.classList.remove('colab-df-spinner');\n",
       "          quickchartButtonEl.classList.add('colab-df-quickchart-complete');\n",
       "        }\n",
       "        (() => {\n",
       "          let quickchartButtonEl =\n",
       "            document.querySelector('#df-36d75477-ab2a-4fc8-b246-2825b9244ba4 button');\n",
       "          quickchartButtonEl.style.display =\n",
       "            google.colab.kernel.accessAllowed ? 'block' : 'none';\n",
       "        })();\n",
       "      </script>\n",
       "    </div>\n",
       "\n",
       "    </div>\n",
       "  </div>\n"
      ],
      "application/vnd.google.colaboratory.intrinsic+json": {
       "type": "dataframe",
       "variable_name": "df",
       "summary": "{\n  \"name\": \"df\",\n  \"rows\": 1494,\n  \"fields\": [\n    {\n      \"column\": \"text\",\n      \"properties\": {\n        \"dtype\": \"string\",\n        \"num_unique_values\": 1493,\n        \"samples\": [\n          \"Clay Cockrell is sitting in his office at Columbus Circle, across the street from 1 Central Park West, which houses Trump International Hotel and Tower. In front of the tower is Central Park, where Cockrell holds his popular walk and talk therapy sessions. \\nCockrell, a former Wall Street worker turned therapist, spends large parts of his days walking through Central Park or the Battery Park in downtown Manhattan near Wall Street, as a confidant and counsellor to some of New York\\u2019s wealthiest people. \\n\\u201cI shifted towards it naturally,\\u201d he said of his becoming an expert in wealth therapy. \\u201cMany of the extremely wealthy \\u2013 the 1% of the 1% \\u2013 feel that their problems are really not problems. But they are. A lot of therapists do not give enough weight to their issues.\\u201d \\nSo, what issues are America\\u2019s 1% struggling with? \\u201cThere is guilt over being rich in the first place,\\u201d he said. \\u201cThere is the feeling that they have to hide the fact that they are rich. And, then, there is the isolation \\u2013 being in the 1%, it turns out, can be lonely.\\u201d It seems F Scott Fitzgerald was right: the very rich \\u201care different from you and me\\u201d. \\nCounsellors argue things have become worse since the financial crisis and the debate over income inequality that has been spurred on by movements like Occupy Wall Street and the Fight for $15 fair wage campaign. \\n\\u201cThe Occupy Wall Street movement was a good one and had some important things to say about income inequality but it singled out the 1% and painted them globally as something negative,\\u201d said Jamie Traeger-Muney, a wealth psychologist and founder of the Wealth Legacy Group. The media, she said, is partly to blame for making the rich \\u201cfeel like they need to hide or feel ashamed\\u201d. \\n\\u201cSometimes, I am shocked by things that people say. You would never refer to another group of people in the way that it seems perfectly normal to refer to wealth holders.\\u201d \\n\\u201cIt\\u2019s really isolating to have a lot of money. People\\u2019s reactions to you can be scary,\\u201d said Barbara Nusbaum, an expert in money psychology. \\u201cWe are all taught not to talk about money. It\\u2019s not polite to talk about money. Ironically, it\\u2019s harder to talk about having money than it is to talk about not having money. It\\u2019s much more socially acceptable to say 'I am broke. Things are hard.' You can\\u2019t say 'I have a ton of money.' You have to keep a lot of your life private.\\u201d \\nAs a result, Cockrell points out, the rich tend to hang out with other rich Americans, not out of snobbery but in order to be around those who understand them and their problems. \\nThe growing gap between the rich and poor is a global phenomenon. According to Oxfam, the richest 1% have seen their share of global wealth increase from 44% in 2009 to 48% in 2014 and are on track to own more than the other 99% by 2016. \\nIn the US, over the last three decades, the wealth owned by the top 0.1% households increased from 7% to 22% even as the wealth of the bottom 90% of households declined. \\nThe number of extremely wealthy people has also been climbing. According to research from Spectrem Group, in 2014, the number of US households with $1m or more in assets \\u2013 excluding the value of their primary home \\u2013 increased by 500,000 to 10.1m. In 2007, that number was 9.2m. Households worth $5m or more reached 1.3m and 142,000 households are now worth $25m or more. \\nSince the 2008 financial crisis, the income gap has expanded and the situation \\u201chas gotten worse for the wealthy\\u201d, Cockrell said. The main reason? Not knowing if your friends are friends with you or your money. \\n\\u201cSomeone else who is also a billionaire \\u2013 they don\\u2019t want anything from you. Never being able to trust your friendships with people of different means, I think that is difficult,\\u201d said Cockrell. \\u201cAs the gap has widened, the rich have become more and more isolated.\\u201d \\nThese are real fears faced by the richest of the rich. In 2007, the Gates Foundation teamed up with Boston College\\u2019s Center on Wealth and Philanthropy to document what it felt like to be in America\\u2019s 1%. For the next four years, researchers surveyed 165 of America\\u2019s richest households \\u2013 120 of those households have at least $25m in assets. The average net worth of those surveyed was $78m. The resulting study, The Joys and Dilemmas of Wealth, was 500 pages long and seemed to prove the old adage that money can\\u2019t buy happiness. \\n\\u201cWealth can be a barrier to connecting with other people,\\u201d confessed a spouse of a tech entrepreneur who made about $80m. Some Americans have taken to keeping their wealth secret. \\u201cWe talk about it as stealth wealth. There are a lot of people that are hiding their wealth because they are concerned about negative judgment,\\u201d said Traeger-Muney. If wealthy Americans talk about the unique challenges that come with their wealth, people often dismiss their experience. \\n\\u201cPeople say 'Oh, poor you.' There is not a lot of sympathy there,\\u201d she said. \\u201cWealth is still one of our last taboos.\\u201d \\nSpeaking in his soft, soothing voice that makes you want to spill all your worries, Cockrell said that a common mistake that many of his wealthy clients make is letting their money define them. \\n\\u201cI don\\u2019t think it\\u2019s healthy to discount your problems. If you are part of the 1%, you still have problems and they are legitimate to you. Even when you say, 'I don\\u2019t have to struggle for money', there are other parts of your life. Money is not the only thing that defines you,\\u201d he said. \\u201cYour problems are legitimate.\\u201d\\n\",\n          \"If you think of the jobs robots could never do, you would probably put doctors and teachers at the top of the list. It's easy to imagine robot cleaners and factory workers, but some jobs need human connection and creativity. But are we underestimating what robots can do? In some cases, they already perform better than doctors at diagnosing illness. Also, some patients might feel more comfortable sharing personal information with a machine than a person. Could there be a place for robots in education after all?\\nBritish education expert Anthony Seldon thinks so. And he even has a date for the robot takeover of the classroom: 2027. He predicts robots will do the main job of transferring information and teachers will be like assistants. Intelligent robots will read students' faces, movements and maybe even brain signals. Then they will adapt the information to each student. It's not a popular opinion and it's unlikely robots will ever have empathy and the ability to really connect with humans like another human can.\\nOne thing is certain, though. A robot teacher is better than no teacher at all. In some parts of the world, there aren't enough teachers and 9\\u201316 per cent of children under the age of 14 don't go to school. That problem could be partly solved by robots because they can teach anywhere and won't get stressed, or tired, or move somewhere for an easier, higher-paid job.\\nThose negative aspects of teaching are something everyone agrees on. Teachers all over the world are leaving because it is a difficult job and they feel overworked. Perhaps the question is not 'Will robots replace teachers?' but 'How can robots help teachers?' Office workers can use software to do things like organise and answer emails, arrange meetings and update calendars. Teachers waste a lot of time doing non-teaching work, including more than 11 hours a week marking homework. If robots could cut the time teachers spend marking homework and writing reports, teachers would have more time and energy for the parts of the job humans do best.\",\n          \"In the philosophy of religion, creation is the action by which God brings an object into existence, while conservation is the action by which God maintains the existence of an object over time. The major monotheisms unambiguously affirm that God both created the world and conserves it. It is less clear, however, whether creation and conservation are to be conceived as distinct kinds of actions. The question has its roots in medieval and early modern characterizations of divine action, and it has received renewed attention in recent decades.\\nOn the predominant traditional view, conservation is continuous creation. Adherents of this view typically say with Francisco Su\\u00e1rez that God\\u2019s creation and conservation of things are \\u201conly conceptually distinct\\u201d (Su\\u00e1rez 1597, 120). Jonathan Edwards, for example, says, \\u201cGod\\u2019s upholding created substance, or causing its existence in each successive moment, is altogether equivalent to an immediate production out of nothing, at each moment\\u2026. So that this effect differs not at all from the first creation, but only circumstantially\\u2026\\u201d (Edwards 1758, 402; emphasis in the original). In other words, there is no real difference between the act of creation and the act of conservation, though different words may be used for them. Descartes, Malebranche, Leibniz, and Berkeley all express similar views. More recently, Philip Quinn likewise treats both God\\u2019s creating and God\\u2019s conserving as species of bringing about a thing\\u2019s existence. We call the act \\u2018creation\\u2019 if it occurs at the first time at which the creature exists, and we call it \\u2018conservation\\u2019 if it occurs at a later time, but the action is the same (e.g., Quinn 1988, 54).\\nThe alternative to this view is that the act of conserving beings that already exist differs from calling beings into existence from nothing. Some argue that each persisting creature plays a causal role in its ongoing existence, so that God is not the sole agent as in an ex nihilo creation. Some also argue that conservation must be an ongoing act, whereas creation occurs at an instant.\\nA large part of what is at stake in the debate is the relationship between divine action and creaturely action. Continuous creation theorists may reject a distinction between creation and conservation as an attempt to attribute a divine prerogative to created things. On the other hand, those who endorse a distinction may regard continuous creation theory as (to borrow a phrase) \\u201cone of those high-minded philosophical depreciations of God\\u2019s works that come disguised as compliments to God\\u2019s person\\u201d (van Inwagen 1988, 46 n4). The debate also raises a number of interesting questions about causation, time, and their relations.\"\n        ],\n        \"semantic_type\": \"\",\n        \"description\": \"\"\n      }\n    },\n    {\n      \"column\": \"label\",\n      \"properties\": {\n        \"dtype\": \"category\",\n        \"num_unique_values\": 6,\n        \"samples\": [\n          \"B2\",\n          \"A2\",\n          \"C2\"\n        ],\n        \"semantic_type\": \"\",\n        \"description\": \"\"\n      }\n    }\n  ]\n}"
      }
     },
     "metadata": {},
     "execution_count": 8
    }
   ]
  },
  {
   "cell_type": "code",
   "source": [
    "t = df.iloc[0][\"text\"]"
   ],
   "metadata": {
    "id": "pnijC2Tukzl8"
   },
   "execution_count": null,
   "outputs": []
  },
  {
   "cell_type": "code",
   "source": [
    "doc = nlp(t)"
   ],
   "metadata": {
    "id": "GiBxAfQejiqV"
   },
   "execution_count": null,
   "outputs": []
  },
  {
   "cell_type": "code",
   "source": [],
   "metadata": {
    "id": "MY5zRKCMky34"
   },
   "execution_count": null,
   "outputs": []
  },
  {
   "cell_type": "code",
   "source": [
    "for s in doc.sentences:\n",
    "  s.print_dependencies()\n",
    "  print(\"\\n\")\n",
    "  print(\"-\" * 30)"
   ],
   "metadata": {
    "id": "a0VBx1pZjitM"
   },
   "execution_count": null,
   "outputs": []
  },
  {
   "cell_type": "code",
   "source": [
    "from stanza.utils.conll import CoNLL"
   ],
   "metadata": {
    "id": "0q22MHvqm8rS"
   },
   "execution_count": null,
   "outputs": []
  },
  {
   "cell_type": "code",
   "source": [
    "CoNLL.write_doc2conll(doc, \"output.conllu\")"
   ],
   "metadata": {
    "id": "vY1uRaP0nDM1"
   },
   "execution_count": null,
   "outputs": []
  },
  {
   "cell_type": "code",
   "source": [
    "conllu = \"{:C}\".format(doc)"
   ],
   "metadata": {
    "id": "hg_sUQvznDPq"
   },
   "execution_count": null,
   "outputs": []
  },
  {
   "cell_type": "code",
   "source": [
    "with open(\"output.conllu\", \"w\", encoding=\"utf-8\") as f:\n",
    "    f.write(conllu)"
   ],
   "metadata": {
    "id": "JIjkX-IVmpeH"
   },
   "execution_count": 27,
   "outputs": []
  },
  {
   "cell_type": "code",
   "source": [
    "!txtcomplexity --input-format conllu output.conllu"
   ],
   "metadata": {
    "id": "Z7FypEOGnZoA",
    "colab": {
     "base_uri": "https://localhost:8080/"
    },
    "outputId": "59957a7e-f91a-47d4-fd64-3410c8a4b99f"
   },
   "execution_count": 28,
   "outputs": [
    {
     "output_type": "stream",
     "name": "stdout",
     "text": [
      "Traceback (most recent call last):\n",
      "  File \"/usr/local/bin/txtcomplexity\", line 12, in <module>\n",
      "    textcomplexity.cli.main()\n",
      "  File \"/usr/local/lib/python3.11/dist-packages/textcomplexity/cli.py\", line 202, in main\n",
      "    results.extend(surface_based(tokens, args.window_size, args.preset))\n",
      "                   ^^^^^^^^^^^^^^^^^^^^^^^^^^^^^^^^^^^^^^^^^^^^^^^^^^^^\n",
      "  File \"/usr/local/lib/python3.11/dist-packages/textcomplexity/cli.py\", line 72, in surface_based\n",
      "    mean, stdev, _ = misc.bootstrap(measure, tokens, window_size, strategy=\"spread\")\n",
      "                     ^^^^^^^^^^^^^^^^^^^^^^^^^^^^^^^^^^^^^^^^^^^^^^^^^^^^^^^^^^^^^^^\n",
      "  File \"/usr/local/lib/python3.11/dist-packages/textcomplexity/utils/misc.py\", line 72, in bootstrap\n",
      "    for window in windows.disjoint_windows(tokens, window_size, strategy):\n",
      "  File \"/usr/local/lib/python3.11/dist-packages/textcomplexity/utils/windows.py\", line 30, in disjoint_windows\n",
      "    assert window_size <= text_length\n",
      "           ^^^^^^^^^^^^^^^^^^^^^^^^^^\n",
      "AssertionError\n"
     ]
    }
   ]
  },
  {
   "cell_type": "code",
   "source": [],
   "metadata": {
    "id": "U5Gv7i09qdGu"
   },
   "execution_count": null,
   "outputs": []
  }
 ]
}
