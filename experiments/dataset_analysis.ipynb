{
 "cells": [
  {
   "metadata": {},
   "cell_type": "code",
   "outputs": [],
   "execution_count": null,
   "source": "# !pip install -U SoMaJo"
  },
  {
   "cell_type": "code",
   "metadata": {},
   "source": "# !pip install -U seaborn",
   "outputs": [],
   "execution_count": null
  },
  {
   "cell_type": "code",
   "metadata": {
    "ExecuteTime": {
     "end_time": "2025-09-08T18:27:45.412275Z",
     "start_time": "2025-09-08T18:27:45.267039Z"
    }
   },
   "source": [
    "import pandas as pd"
   ],
   "outputs": [],
   "execution_count": 1
  },
  {
   "cell_type": "code",
   "metadata": {
    "ExecuteTime": {
     "end_time": "2025-09-08T18:27:46.302428Z",
     "start_time": "2025-09-08T18:27:46.150181Z"
    }
   },
   "source": [
    "import matplotlib.pyplot as plt"
   ],
   "outputs": [],
   "execution_count": 2
  },
  {
   "cell_type": "code",
   "metadata": {
    "ExecuteTime": {
     "end_time": "2025-09-08T18:27:47.673901Z",
     "start_time": "2025-09-08T18:27:47.671154Z"
    }
   },
   "source": [
    "pd.options.mode.chained_assignment = None"
   ],
   "outputs": [],
   "execution_count": 3
  },
  {
   "cell_type": "code",
   "metadata": {
    "ExecuteTime": {
     "end_time": "2025-09-08T18:27:49.236943Z",
     "start_time": "2025-09-08T18:27:49.210136Z"
    }
   },
   "source": "df = pd.read_csv('dataset/cefr_leveled_texts.csv', encoding='utf-8')",
   "outputs": [],
   "execution_count": 4
  },
  {
   "cell_type": "code",
   "metadata": {
    "ExecuteTime": {
     "end_time": "2025-09-08T18:27:52.391898Z",
     "start_time": "2025-09-08T18:27:52.382227Z"
    }
   },
   "source": [
    "# remove the Unicode BOM Character (\\ufeff) manually\n",
    "df['text'] = df['text'].str.replace('\\ufeff', '')"
   ],
   "outputs": [],
   "execution_count": 5
  },
  {
   "cell_type": "code",
   "metadata": {
    "ExecuteTime": {
     "end_time": "2025-09-08T18:27:55.354278Z",
     "start_time": "2025-09-08T18:27:55.345105Z"
    }
   },
   "source": [
    "# remove the advertisement, business card, dictionary entry and menus from A1 level, which can't be correctly tokenized\n",
    "df = df.drop(index=[1041, 1064, 1068, 1113, 1117, 1223]).reset_index(drop=True)"
   ],
   "outputs": [],
   "execution_count": 6
  },
  {
   "cell_type": "code",
   "metadata": {
    "ExecuteTime": {
     "end_time": "2025-09-08T18:27:56.277230Z",
     "start_time": "2025-09-08T18:27:56.273151Z"
    }
   },
   "source": [
    "df.head()"
   ],
   "outputs": [
    {
     "data": {
      "text/plain": [
       "                                                text label\n",
       "0  Hi!\\nI've been meaning to write for ages and f...    B2\n",
       "1  It was not so much how hard people found the c...    B2\n",
       "2  Keith recently came back from a trip to Chicag...    B2\n",
       "3  The Griffith Observatory is a planetarium, and...    B2\n",
       "4  -LRB- The Hollywood Reporter -RRB- It's offici...    B2"
      ],
      "text/html": [
       "<div>\n",
       "<style scoped>\n",
       "    .dataframe tbody tr th:only-of-type {\n",
       "        vertical-align: middle;\n",
       "    }\n",
       "\n",
       "    .dataframe tbody tr th {\n",
       "        vertical-align: top;\n",
       "    }\n",
       "\n",
       "    .dataframe thead th {\n",
       "        text-align: right;\n",
       "    }\n",
       "</style>\n",
       "<table border=\"1\" class=\"dataframe\">\n",
       "  <thead>\n",
       "    <tr style=\"text-align: right;\">\n",
       "      <th></th>\n",
       "      <th>text</th>\n",
       "      <th>label</th>\n",
       "    </tr>\n",
       "  </thead>\n",
       "  <tbody>\n",
       "    <tr>\n",
       "      <th>0</th>\n",
       "      <td>Hi!\\nI've been meaning to write for ages and f...</td>\n",
       "      <td>B2</td>\n",
       "    </tr>\n",
       "    <tr>\n",
       "      <th>1</th>\n",
       "      <td>It was not so much how hard people found the c...</td>\n",
       "      <td>B2</td>\n",
       "    </tr>\n",
       "    <tr>\n",
       "      <th>2</th>\n",
       "      <td>Keith recently came back from a trip to Chicag...</td>\n",
       "      <td>B2</td>\n",
       "    </tr>\n",
       "    <tr>\n",
       "      <th>3</th>\n",
       "      <td>The Griffith Observatory is a planetarium, and...</td>\n",
       "      <td>B2</td>\n",
       "    </tr>\n",
       "    <tr>\n",
       "      <th>4</th>\n",
       "      <td>-LRB- The Hollywood Reporter -RRB- It's offici...</td>\n",
       "      <td>B2</td>\n",
       "    </tr>\n",
       "  </tbody>\n",
       "</table>\n",
       "</div>"
      ]
     },
     "execution_count": 7,
     "metadata": {},
     "output_type": "execute_result"
    }
   ],
   "execution_count": 7
  },
  {
   "cell_type": "code",
   "metadata": {
    "ExecuteTime": {
     "end_time": "2025-09-08T18:27:59.354861Z",
     "start_time": "2025-09-08T18:27:59.338964Z"
    }
   },
   "source": [
    "level_number = df[\"label\"].value_counts().to_frame().sort_values(by=\"label\").reset_index()\n",
    "level_number.columns = ['level', 'number']  # Rename columns\n",
    "level_number"
   ],
   "outputs": [
    {
     "data": {
      "text/plain": [
       "  level  number\n",
       "0    A1     282\n",
       "1    A2     272\n",
       "2    B1     205\n",
       "3    B2     286\n",
       "4    C1     241\n",
       "5    C2     202"
      ],
      "text/html": [
       "<div>\n",
       "<style scoped>\n",
       "    .dataframe tbody tr th:only-of-type {\n",
       "        vertical-align: middle;\n",
       "    }\n",
       "\n",
       "    .dataframe tbody tr th {\n",
       "        vertical-align: top;\n",
       "    }\n",
       "\n",
       "    .dataframe thead th {\n",
       "        text-align: right;\n",
       "    }\n",
       "</style>\n",
       "<table border=\"1\" class=\"dataframe\">\n",
       "  <thead>\n",
       "    <tr style=\"text-align: right;\">\n",
       "      <th></th>\n",
       "      <th>level</th>\n",
       "      <th>number</th>\n",
       "    </tr>\n",
       "  </thead>\n",
       "  <tbody>\n",
       "    <tr>\n",
       "      <th>0</th>\n",
       "      <td>A1</td>\n",
       "      <td>282</td>\n",
       "    </tr>\n",
       "    <tr>\n",
       "      <th>1</th>\n",
       "      <td>A2</td>\n",
       "      <td>272</td>\n",
       "    </tr>\n",
       "    <tr>\n",
       "      <th>2</th>\n",
       "      <td>B1</td>\n",
       "      <td>205</td>\n",
       "    </tr>\n",
       "    <tr>\n",
       "      <th>3</th>\n",
       "      <td>B2</td>\n",
       "      <td>286</td>\n",
       "    </tr>\n",
       "    <tr>\n",
       "      <th>4</th>\n",
       "      <td>C1</td>\n",
       "      <td>241</td>\n",
       "    </tr>\n",
       "    <tr>\n",
       "      <th>5</th>\n",
       "      <td>C2</td>\n",
       "      <td>202</td>\n",
       "    </tr>\n",
       "  </tbody>\n",
       "</table>\n",
       "</div>"
      ]
     },
     "execution_count": 8,
     "metadata": {},
     "output_type": "execute_result"
    }
   ],
   "execution_count": 8
  },
  {
   "metadata": {
    "ExecuteTime": {
     "end_time": "2025-09-08T18:28:00.373001Z",
     "start_time": "2025-09-08T18:28:00.270976Z"
    }
   },
   "cell_type": "code",
   "source": [
    "plt.figure(figsize=(8, 5))\n",
    "plt.bar(level_number[\"level\"], level_number[\"number\"],\n",
    "        capsize=10, alpha=0.8, color='green')\n",
    "plt.xlabel('CEFR_level')\n",
    "plt.ylabel('Number of Texts')\n",
    "plt.title('Texts in the Dataset')\n",
    "plt.grid(axis='y', alpha=0.3)\n",
    "plt.savefig('Illustrations/Dataset_analysis/level_text.png')\n",
    "plt.show()"
   ],
   "outputs": [
    {
     "data": {
      "text/plain": [
       "<Figure size 800x500 with 1 Axes>"
      ],
      "image/png": "[encoded data removed]"
     },
     "metadata": {},
     "output_type": "display_data"
    }
   ],
   "execution_count": 9
  },
  {
   "cell_type": "markdown",
   "metadata": {},
   "source": [
    "## Standardize the text\n",
    "The following program parts are generated by AI.\n",
    "\n",
    "It aims to replace non ASCII characters with ASCII equivalents so that the quality of tagging can be guaranteed."
   ]
  },
  {
   "cell_type": "code",
   "metadata": {
    "ExecuteTime": {
     "end_time": "2025-08-26T08:14:33.229943Z",
     "start_time": "2025-08-26T08:14:33.226988Z"
    }
   },
   "source": [
    "def flag_and_summarize_non_ascii(df):\n",
    "    \"\"\"\n",
    "    Detects non-ASCII characters, flags them per column, and returns a set of all unique non-ASCII chars.\n",
    "\n",
    "    Args:\n",
    "        df (pd.DataFrame): Input DataFrame\n",
    "\n",
    "    Returns:\n",
    "        set of unique non-ASCII characters\n",
    "    \"\"\"\n",
    "    df = df.copy()\n",
    "    non_ascii_chars = set()\n",
    "\n",
    "    for col in df.select_dtypes(include=['object']).columns:\n",
    "        # New column name for detected non-ASCII characters\n",
    "        new_col = f\"{col}_non_ascii_chars\"\n",
    "\n",
    "        # Extract non-ASCII characters (if any)\n",
    "        df[new_col] = df[col].apply(\n",
    "            lambda x: ''.join([c for c in str(x) if ord(c) > 127])\n",
    "            if pd.notna(x) else None\n",
    "        )\n",
    "\n",
    "        # Update the global set of non-ASCII characters\n",
    "        unique_chars_in_col = set(''.join(df[new_col].dropna().astype(str)))\n",
    "        non_ascii_chars.update(unique_chars_in_col)\n",
    "\n",
    "        # Print column-specific issues\n",
    "        non_ascii_rows = df[df[new_col].str.len() > 0]\n",
    "        if not non_ascii_rows.empty:\n",
    "            print(f\"⚠️ Column '{col}' has {len(non_ascii_rows)} rows with non-ASCII characters.\")\n",
    "\n",
    "    # Print global summary\n",
    "    if non_ascii_chars:\n",
    "        print(\"\\n=== Unique non-ASCII characters found ===\")\n",
    "        for char in sorted(non_ascii_chars, key=ord):\n",
    "            print(f\"Character: '{char}' | Unicode: U+{ord(char):04X}\")\n",
    "    else:\n",
    "        print(\"✅ No non-ASCII characters found.\")\n",
    "\n",
    "    return non_ascii_chars"
   ],
   "outputs": [],
   "execution_count": 15
  },
  {
   "cell_type": "code",
   "metadata": {
    "ExecuteTime": {
     "end_time": "2025-08-26T08:14:34.029710Z",
     "start_time": "2025-08-26T08:14:34.020078Z"
    }
   },
   "source": [
    "STANDARDIZATION_MAP = {\n",
    "    # Whitespace and invisible characters\n",
    "    '\\u00A0': ' ',   # Non-breaking space → regular space\n",
    "\n",
    "    # Punctuation and symbols\n",
    "    '¡': '!',        # Inverted exclamation → regular !\n",
    "    '¢': 'c',        # Cent → 'c'\n",
    "    '£': 'GBP',      # Pound → 'GBP'\n",
    "    '§': 'sect',     # Section symbol → 'sect'\n",
    "    '©': '(copyright)',\n",
    "    '°': 'deg',      # Degree → 'deg'\n",
    "    '×': '*',        # Multiplication → '*'\n",
    "    '•': '-',        # Bullet → hyphen\n",
    "    '…': '...',      # Ellipsis → '...'\n",
    "\n",
    "    # Diacritics (normalize to ASCII closest equivalents)\n",
    "    'Á': 'A', 'Â': 'A', 'Ã': 'A', 'É': 'E', 'Ó': 'O', 'Ú': 'U',\n",
    "    'á': 'a', 'â': 'a', 'ã': 'a', 'ä': 'a', 'æ': 'ae', 'ç': 'c',\n",
    "    'è': 'e', 'é': 'e', 'ê': 'e', 'ë': 'e', 'í': 'i', 'î': 'i',\n",
    "    'ï': 'i', 'ñ': 'n', 'ó': 'o', 'ô': 'o', 'ö': 'o', 'ø': 'o',\n",
    "    'ú': 'u', 'ü': 'u', 'ā': 'a', 'ć': 'c', 'č': 'c', 'ł': 'l',\n",
    "    'ū': 'u',\n",
    "\n",
    "    # Scientific/math symbols (replace with descriptive tokens)\n",
    "    'µ': 'micro',    # Micro → 'micro'\n",
    "    '¼': '1/4',      # Fractions → decimals\n",
    "    '½': '1/2',\n",
    "    '−': '-',        # Minus → hyphen\n",
    "    '∼': '~',        # Tilde → ASCII ~\n",
    "    '⊙': '(circle)', # Math operators → descriptions\n",
    "    'ℝ': '(real numbers)',\n",
    "\n",
    "    # Quotes and dashes\n",
    "    '‘': \"'\", '’': \"'\", '“': '\"', '”': '\"',\n",
    "    '–': '-', '—': '--',  # En/em dashes → hyphens\n",
    "\n",
    "    # Currency symbols\n",
    "    '€': 'EUR', '₦': 'NGN', '₵': 'GHS',\n",
    "\n",
    "    # Ligatures (expand)\n",
    "    'ﬁ': 'fi', 'ﬂ': 'fl',\n",
    "}"
   ],
   "outputs": [],
   "execution_count": 16
  },
  {
   "cell_type": "code",
   "metadata": {
    "ExecuteTime": {
     "end_time": "2025-08-26T08:14:34.596470Z",
     "start_time": "2025-08-26T08:14:34.588138Z"
    }
   },
   "source": [
    "def standardize_text(text, standardization_map=STANDARDIZATION_MAP):\n",
    "    if not isinstance(text, str):\n",
    "        return text\n",
    "    # Replace each non-ASCII char using the map\n",
    "    standardized = []\n",
    "    for char in text:\n",
    "        if char in standardization_map:\n",
    "            standardized.append(standardization_map[char])\n",
    "        elif ord(char) > 127:  # Fallback for unmapped Unicode\n",
    "            standardized.append(f'(U+{ord(char):04X})')\n",
    "        else:\n",
    "            standardized.append(char)\n",
    "    return ''.join(standardized)\n",
    "\n",
    "# Apply to all string columns in a DataFrame\n",
    "def standardize_dataframe(df, standardization_map=STANDARDIZATION_MAP):\n",
    "    df_std = df.copy()\n",
    "    for col in df.select_dtypes(include=['object']).columns:\n",
    "        df_std[col] = df[col].apply(lambda x: standardize_text(x, standardization_map))\n",
    "    return df_std"
   ],
   "outputs": [],
   "execution_count": 17
  },
  {
   "cell_type": "code",
   "metadata": {
    "ExecuteTime": {
     "end_time": "2025-08-26T08:14:35.580516Z",
     "start_time": "2025-08-26T08:14:35.460938Z"
    }
   },
   "source": [
    "df = standardize_dataframe(df)"
   ],
   "outputs": [],
   "execution_count": 18
  },
  {
   "cell_type": "code",
   "metadata": {
    "ExecuteTime": {
     "end_time": "2025-08-26T08:14:36.216687Z",
     "start_time": "2025-08-26T08:14:36.153543Z"
    }
   },
   "source": [
    "non_ascii_chars = flag_and_summarize_non_ascii(df)"
   ],
   "outputs": [
    {
     "name": "stdout",
     "output_type": "stream",
     "text": [
      "✅ No non-ASCII characters found.\n"
     ]
    }
   ],
   "execution_count": 19
  },
  {
   "cell_type": "code",
   "metadata": {
    "ExecuteTime": {
     "end_time": "2025-09-08T18:28:32.016173Z",
     "start_time": "2025-09-08T18:28:32.014024Z"
    }
   },
   "source": [
    "from pathlib import Path  # Better path handling\n",
    "\n",
    "def save_groups_to_parallel_dir(df, group_column, output_dir_name):\n",
    "    \"\"\"\n",
    "    Groups DataFrame and saves each group to CSV in a parallel directory.\n",
    "\n",
    "    Args:\n",
    "        df: pandas DataFrame\n",
    "        group_column: Column name to group by\n",
    "        parallel_dir_name: Name of the parallel directory to create\n",
    "    \"\"\"\n",
    "    # Get the current script's directory\n",
    "    script_dir = Path().parent.resolve()\n",
    "\n",
    "    # Get the parent directory (one level up)\n",
    "    parent_dir = script_dir.parent\n",
    "\n",
    "    # Create path to parallel directory\n",
    "    output_dir = parent_dir / output_dir_name\n",
    "\n",
    "    # Create directory if it doesn't exist\n",
    "    output_dir.mkdir(exist_ok=True)\n",
    "\n",
    "    # Group and save files\n",
    "    groups = df.groupby(group_column)\n",
    "    for name, group in groups:\n",
    "        # Create safe filename\n",
    "        # safe_name = str(name).translate(str.maketrans('/\\\\|?*:', '_______'))\n",
    "        safe_name = str(name)\n",
    "        filepath = output_dir / f\"{safe_name}.csv\"\n",
    "        # Save to CSV\n",
    "        group.to_csv(filepath, index=False)\n",
    "\n",
    "    print(f\"Saved {len(groups)} groups to {output_dir}\")\n",
    "    return list(groups.groups.keys())"
   ],
   "outputs": [],
   "execution_count": 10
  },
  {
   "cell_type": "code",
   "metadata": {
    "ExecuteTime": {
     "end_time": "2025-09-08T18:28:34.617073Z",
     "start_time": "2025-09-08T18:28:34.576200Z"
    }
   },
   "source": [
    "save_groups_to_parallel_dir(df, group_column=\"label\", output_dir_name=\"dataset\")"
   ],
   "outputs": [
    {
     "name": "stdout",
     "output_type": "stream",
     "text": [
      "Saved 6 groups to /home/cometbridge1998/Documents/dataset\n"
     ]
    },
    {
     "data": {
      "text/plain": [
       "['A1', 'A2', 'B1', 'B2', 'C1', 'C2']"
      ]
     },
     "execution_count": 11,
     "metadata": {},
     "output_type": "execute_result"
    }
   ],
   "execution_count": 11
  },
  {
   "cell_type": "code",
   "metadata": {
    "ExecuteTime": {
     "end_time": "2025-09-08T18:28:40.445213Z",
     "start_time": "2025-09-08T18:28:40.411820Z"
    }
   },
   "source": [
    "for level in ['A1', 'A2', 'B1', 'B2', 'C1', 'C2']:\n",
    "    globals()[level] = pd.read_csv(f'../dataset/{level}.csv', encoding='utf-8')"
   ],
   "outputs": [],
   "execution_count": 12
  },
  {
   "cell_type": "markdown",
   "metadata": {},
   "source": [
    "## A primitive analysis of the dataset"
   ]
  },
  {
   "cell_type": "code",
   "metadata": {
    "ExecuteTime": {
     "end_time": "2025-09-08T18:28:44.841695Z",
     "start_time": "2025-09-08T18:28:44.713274Z"
    }
   },
   "source": [
    "from somajo import SoMaJo\n",
    "\n",
    "tokenizer = SoMaJo(\"en_PTB\", split_camel_case=True)"
   ],
   "outputs": [],
   "execution_count": 13
  },
  {
   "cell_type": "code",
   "metadata": {
    "ExecuteTime": {
     "end_time": "2025-09-08T18:28:46.266940Z",
     "start_time": "2025-09-08T18:28:46.260482Z"
    }
   },
   "source": [
    "def somajo_tokenize(paragraphs):\n",
    "    # paragraphs must be an iterable object\n",
    "    sentences = tokenizer.tokenize_text(paragraphs)\n",
    "\n",
    "    sentence_count = 0\n",
    "    token_each_sentence = []\n",
    "\n",
    "    for sentence in sentences:\n",
    "        sentence_count += 1\n",
    "\n",
    "        token_count = sum(1 for _ in sentence)\n",
    "        token_each_sentence.append(token_count)\n",
    "\n",
    "    token_count = sum(token_each_sentence)\n",
    "    avg_length_each_sentence = sum(token_each_sentence) / len(token_each_sentence)\n",
    "\n",
    "    return sentence_count, token_count, avg_length_each_sentence"
   ],
   "outputs": [],
   "execution_count": 14
  },
  {
   "cell_type": "code",
   "metadata": {
    "ExecuteTime": {
     "end_time": "2025-09-08T18:29:15.340572Z",
     "start_time": "2025-09-08T18:28:54.244725Z"
    }
   },
   "source": [
    "### Tokenizing all texts may take up to 1 min\n",
    "\n",
    "df[\"stat\"] = df[\"text\"].apply(lambda x: somajo_tokenize([x]))\n",
    "df[\"sentence_count\"] = df[\"stat\"].apply(lambda x: x[0])\n",
    "df[\"token_count\"] = df[\"stat\"].apply(lambda x: x[1])\n",
    "df[\"avg_len_each_sent\"] = df[\"stat\"].apply(lambda x: x[2]).round(2)\n",
    "df = df.drop('stat', axis=1)\n",
    "df.head()"
   ],
   "outputs": [
    {
     "data": {
      "text/plain": [
       "                                                text label  sentence_count  \\\n",
       "0  Hi!\\nI've been meaning to write for ages and f...    B2              26   \n",
       "1  It was not so much how hard people found the c...    B2              34   \n",
       "2  Keith recently came back from a trip to Chicag...    B2              14   \n",
       "3  The Griffith Observatory is a planetarium, and...    B2              16   \n",
       "4  -LRB- The Hollywood Reporter -RRB- It's offici...    B2              18   \n",
       "\n",
       "   token_count  avg_len_each_sent  \n",
       "0          529              20.35  \n",
       "1          761              22.38  \n",
       "2          266              19.00  \n",
       "3          343              21.44  \n",
       "4          411              22.83  "
      ],
      "text/html": [
       "<div>\n",
       "<style scoped>\n",
       "    .dataframe tbody tr th:only-of-type {\n",
       "        vertical-align: middle;\n",
       "    }\n",
       "\n",
       "    .dataframe tbody tr th {\n",
       "        vertical-align: top;\n",
       "    }\n",
       "\n",
       "    .dataframe thead th {\n",
       "        text-align: right;\n",
       "    }\n",
       "</style>\n",
       "<table border=\"1\" class=\"dataframe\">\n",
       "  <thead>\n",
       "    <tr style=\"text-align: right;\">\n",
       "      <th></th>\n",
       "      <th>text</th>\n",
       "      <th>label</th>\n",
       "      <th>sentence_count</th>\n",
       "      <th>token_count</th>\n",
       "      <th>avg_len_each_sent</th>\n",
       "    </tr>\n",
       "  </thead>\n",
       "  <tbody>\n",
       "    <tr>\n",
       "      <th>0</th>\n",
       "      <td>Hi!\\nI've been meaning to write for ages and f...</td>\n",
       "      <td>B2</td>\n",
       "      <td>26</td>\n",
       "      <td>529</td>\n",
       "      <td>20.35</td>\n",
       "    </tr>\n",
       "    <tr>\n",
       "      <th>1</th>\n",
       "      <td>It was not so much how hard people found the c...</td>\n",
       "      <td>B2</td>\n",
       "      <td>34</td>\n",
       "      <td>761</td>\n",
       "      <td>22.38</td>\n",
       "    </tr>\n",
       "    <tr>\n",
       "      <th>2</th>\n",
       "      <td>Keith recently came back from a trip to Chicag...</td>\n",
       "      <td>B2</td>\n",
       "      <td>14</td>\n",
       "      <td>266</td>\n",
       "      <td>19.00</td>\n",
       "    </tr>\n",
       "    <tr>\n",
       "      <th>3</th>\n",
       "      <td>The Griffith Observatory is a planetarium, and...</td>\n",
       "      <td>B2</td>\n",
       "      <td>16</td>\n",
       "      <td>343</td>\n",
       "      <td>21.44</td>\n",
       "    </tr>\n",
       "    <tr>\n",
       "      <th>4</th>\n",
       "      <td>-LRB- The Hollywood Reporter -RRB- It's offici...</td>\n",
       "      <td>B2</td>\n",
       "      <td>18</td>\n",
       "      <td>411</td>\n",
       "      <td>22.83</td>\n",
       "    </tr>\n",
       "  </tbody>\n",
       "</table>\n",
       "</div>"
      ]
     },
     "execution_count": 15,
     "metadata": {},
     "output_type": "execute_result"
    }
   ],
   "execution_count": 15
  },
  {
   "cell_type": "code",
   "metadata": {
    "ExecuteTime": {
     "end_time": "2025-09-08T18:29:24.252512Z",
     "start_time": "2025-09-08T18:29:24.243480Z"
    }
   },
   "source": [
    "## include the emails\n",
    "to_check = df[ (df[\"label\"]==\"A1\") & (df[\"avg_len_each_sent\"] > 12) ]\n",
    "for index, value in to_check['text'].items():\n",
    "    print(\"=\" * 60)\n",
    "    print(f\"Row {index}\")\n",
    "    print(value)"
   ],
   "outputs": [
    {
     "name": "stdout",
     "output_type": "stream",
     "text": [
      "============================================================\n",
      "Row 1079\n",
      "From: Arina Marat, HR Assistant\n",
      "To: Jane Claret\n",
      "Subject: Your appointment on 14 March\n",
      "Dear Ms Claret,\n",
      "Thank you for your email.\n",
      "I am writing to confirm your appointment with our HR manager, Mrs Sofia Aronov.\n",
      "Your appointment will take place at 3 p.m. on Thursday 14 March at our Astana offices in Emerald Towers. \n",
      "When you arrive, please go to the reception on the 26th floor and ask for me. I will take you to Mrs Aronov's office. \n",
      "We look forward to meeting you soon.\n",
      "Best regards,\n",
      "Arina Marat\n",
      "HR Assistant\n",
      "============================================================\n",
      "Row 1158\n",
      "o: info@ascot-hotel.co.uk\n",
      "From: David Mathews\n",
      "Subject: Booking 2 nights next week\n",
      "Dear Ascot Hotel,\n",
      "I would like to reserve an accessible single room for two nights with breakfast on the 22 and 23 of April. Could I have a quiet room with a view if possible, please?\n",
      "I will arrive at about 10 p.m. and I have an early meeting the next morning, so please could you leave an iron and ironing board in the room?\n",
      "I have a promotional code (MH2219). Please can you confirm that it is £80 per night with breakfast included?\n",
      "Please could you confirm the booking? Let me know if you need any further information.\n",
      "Many thanks.\n",
      "With kind regards,\n",
      "David Mathews\n",
      "============================================================\n",
      "Row 1201\n",
      "\n",
      "City flat\n",
      "Beautiful two-bedroom city flat five minutes' walk from the cathedral. Fully equipped kitchen, living room with a large sofa and chairs, big TV and balcony. The balcony has space for four people to sit and gets the sun in the mornings, and the flat is light and warm. It has Wi-Fi and fast internet. The upstairs bedroom sleeps four people, with two double beds; the downstairs bedroom sleeps two in single beds. The flat is perfect for families and is near shops, bars and restaurants.\n",
      "Farmhouse\n",
      "Four-bedroom farmhouse in the countryside. All of the four double bedrooms are en suite with luxury shower and bath. Farm kitchen with barbecue, tables and chairs outside. Great for groups of friends. The supermarket is half an hour by car and you can take a train from the village into the city. Escape from normal life for a few days as we have … NO INTERNET and you can only use mobile phones at the bottom of the garden!\n",
      "============================================================\n",
      "Row 1230\n",
      "From: Simona Reggia\n",
      "To: City Language School\n",
      "Subject: Courses in August\n",
      "Dear Sir or Madam,\n",
      "I have seen your website and I would like to know more about your English courses.\n",
      "I am interested in taking a two-week course in August. Are there any places available, and what are the start dates?\n",
      "Also, do you have any accommodation for those dates?\n",
      "Thank you for your help.\n",
      "Regards,\n",
      "Simona\n",
      "From: Susan Colworth, City Language School\n",
      "To: Simona Reggia\n",
      "Subject: Re: Courses in August\n",
      "Attachment: accommodation_info.pdf\n",
      "Dear Simona,\n",
      "Thank you for your interest in our courses.\n",
      "Courses\n",
      "Yes, we have places on all our August courses.\n",
      "Start dates are 7, 14 and 21 August (Mondays).\n",
      "Accommodation\n",
      "Yes, we have rooms for students near the school. I am attaching some more information, photos and the prices.\n",
      "Which course would you like, and which start date? If you would like accommodation, please let me know soon, as it is very popular.\n",
      "Feel free to email me with any other questions.\n",
      "Regards,\n",
      "Susan Colworth\n",
      "Course Administrator\n",
      "City Language School\n",
      "============================================================\n",
      "Row 1278\n",
      "From: Amelia Smith\n",
      "To: Tim Young\n",
      "Subject: Things to do for the team meeting\n",
      "Tim,\n",
      "We have a team meeting in Room 310 on Friday 26 November at 11 a.m. We are expecting 25 members of our international team there.\n",
      "Could you please book the room for us? \n",
      "Would you please prepare 25 pens and notepads for the meeting? \n",
      "Also, can you write an email to the team members to tell them the time and place of the meeting?\n",
      "Thanks very much for your help. If you have any questions about this just let me know – I'll be in the office tomorrow morning.\n",
      "Best,\n",
      "Amelia\n"
     ]
    }
   ],
   "execution_count": 16
  },
  {
   "cell_type": "code",
   "metadata": {
    "ExecuteTime": {
     "end_time": "2025-09-08T18:34:24.121881Z",
     "start_time": "2025-09-08T18:34:24.113943Z"
    }
   },
   "source": [
    "sentence_count = df.groupby('label')['sentence_count'].agg(['mean', 'std']).reset_index().round(2)\n",
    "sentence_count.attrs['title'] = \"Average number of sentences each text\"\n",
    "sentence_count"
   ],
   "outputs": [
    {
     "data": {
      "text/plain": [
       "  label   mean    std\n",
       "0    A1  15.94   4.17\n",
       "1    A2  21.90   7.73\n",
       "2    B1  26.06  17.80\n",
       "3    B2  26.71  13.88\n",
       "4    C1  31.34  13.86\n",
       "5    C2  26.82  11.76"
      ],
      "text/html": [
       "<div>\n",
       "<style scoped>\n",
       "    .dataframe tbody tr th:only-of-type {\n",
       "        vertical-align: middle;\n",
       "    }\n",
       "\n",
       "    .dataframe tbody tr th {\n",
       "        vertical-align: top;\n",
       "    }\n",
       "\n",
       "    .dataframe thead th {\n",
       "        text-align: right;\n",
       "    }\n",
       "</style>\n",
       "<table border=\"1\" class=\"dataframe\">\n",
       "  <thead>\n",
       "    <tr style=\"text-align: right;\">\n",
       "      <th></th>\n",
       "      <th>label</th>\n",
       "      <th>mean</th>\n",
       "      <th>std</th>\n",
       "    </tr>\n",
       "  </thead>\n",
       "  <tbody>\n",
       "    <tr>\n",
       "      <th>0</th>\n",
       "      <td>A1</td>\n",
       "      <td>15.94</td>\n",
       "      <td>4.17</td>\n",
       "    </tr>\n",
       "    <tr>\n",
       "      <th>1</th>\n",
       "      <td>A2</td>\n",
       "      <td>21.90</td>\n",
       "      <td>7.73</td>\n",
       "    </tr>\n",
       "    <tr>\n",
       "      <th>2</th>\n",
       "      <td>B1</td>\n",
       "      <td>26.06</td>\n",
       "      <td>17.80</td>\n",
       "    </tr>\n",
       "    <tr>\n",
       "      <th>3</th>\n",
       "      <td>B2</td>\n",
       "      <td>26.71</td>\n",
       "      <td>13.88</td>\n",
       "    </tr>\n",
       "    <tr>\n",
       "      <th>4</th>\n",
       "      <td>C1</td>\n",
       "      <td>31.34</td>\n",
       "      <td>13.86</td>\n",
       "    </tr>\n",
       "    <tr>\n",
       "      <th>5</th>\n",
       "      <td>C2</td>\n",
       "      <td>26.82</td>\n",
       "      <td>11.76</td>\n",
       "    </tr>\n",
       "  </tbody>\n",
       "</table>\n",
       "</div>"
      ]
     },
     "execution_count": 20,
     "metadata": {},
     "output_type": "execute_result"
    }
   ],
   "execution_count": 20
  },
  {
   "cell_type": "code",
   "metadata": {
    "ExecuteTime": {
     "end_time": "2025-09-08T18:34:28.189945Z",
     "start_time": "2025-09-08T18:34:28.117827Z"
    }
   },
   "source": [
    "plt.figure(figsize=(8, 5))\n",
    "plt.bar(sentence_count['label'], sentence_count['mean'], yerr=sentence_count['std'],\n",
    "        capsize=10, alpha=0.8, color='green')\n",
    "plt.xlabel('CEFR_level')\n",
    "plt.ylabel('Sentences each text')\n",
    "plt.title('Average number of sentences each text')\n",
    "plt.grid(axis='y', alpha=0.3)\n",
    "plt.savefig('Illustrations/Dataset_analysis/sent_text.png')\n",
    "plt.show()"
   ],
   "outputs": [
    {
     "data": {
      "text/plain": [
       "<Figure size 800x500 with 1 Axes>"
      ],
      "image/png": "[encoded data removed]"
     },
     "metadata": {},
     "output_type": "display_data"
    }
   ],
   "execution_count": 21
  },
  {
   "cell_type": "code",
   "metadata": {
    "ExecuteTime": {
     "end_time": "2025-09-08T18:34:31.505227Z",
     "start_time": "2025-09-08T18:34:31.494057Z"
    }
   },
   "source": [
    "token_count = df.groupby('label')['token_count'].agg(['mean', 'std']).reset_index().round(2)\n",
    "token_count.attrs['title'] = \"Average number of tokens each text\"\n",
    "token_count"
   ],
   "outputs": [
    {
     "data": {
      "text/plain": [
       "  label    mean     std\n",
       "0    A1  119.80   39.71\n",
       "1    A2  270.50  138.51\n",
       "2    B1  472.38  338.45\n",
       "3    B2  574.36  331.77\n",
       "4    C1  786.19  347.91\n",
       "5    C2  804.36  349.39"
      ],
      "text/html": [
       "<div>\n",
       "<style scoped>\n",
       "    .dataframe tbody tr th:only-of-type {\n",
       "        vertical-align: middle;\n",
       "    }\n",
       "\n",
       "    .dataframe tbody tr th {\n",
       "        vertical-align: top;\n",
       "    }\n",
       "\n",
       "    .dataframe thead th {\n",
       "        text-align: right;\n",
       "    }\n",
       "</style>\n",
       "<table border=\"1\" class=\"dataframe\">\n",
       "  <thead>\n",
       "    <tr style=\"text-align: right;\">\n",
       "      <th></th>\n",
       "      <th>label</th>\n",
       "      <th>mean</th>\n",
       "      <th>std</th>\n",
       "    </tr>\n",
       "  </thead>\n",
       "  <tbody>\n",
       "    <tr>\n",
       "      <th>0</th>\n",
       "      <td>A1</td>\n",
       "      <td>119.80</td>\n",
       "      <td>39.71</td>\n",
       "    </tr>\n",
       "    <tr>\n",
       "      <th>1</th>\n",
       "      <td>A2</td>\n",
       "      <td>270.50</td>\n",
       "      <td>138.51</td>\n",
       "    </tr>\n",
       "    <tr>\n",
       "      <th>2</th>\n",
       "      <td>B1</td>\n",
       "      <td>472.38</td>\n",
       "      <td>338.45</td>\n",
       "    </tr>\n",
       "    <tr>\n",
       "      <th>3</th>\n",
       "      <td>B2</td>\n",
       "      <td>574.36</td>\n",
       "      <td>331.77</td>\n",
       "    </tr>\n",
       "    <tr>\n",
       "      <th>4</th>\n",
       "      <td>C1</td>\n",
       "      <td>786.19</td>\n",
       "      <td>347.91</td>\n",
       "    </tr>\n",
       "    <tr>\n",
       "      <th>5</th>\n",
       "      <td>C2</td>\n",
       "      <td>804.36</td>\n",
       "      <td>349.39</td>\n",
       "    </tr>\n",
       "  </tbody>\n",
       "</table>\n",
       "</div>"
      ]
     },
     "execution_count": 22,
     "metadata": {},
     "output_type": "execute_result"
    }
   ],
   "execution_count": 22
  },
  {
   "cell_type": "code",
   "metadata": {
    "ExecuteTime": {
     "end_time": "2025-09-08T18:34:31.972798Z",
     "start_time": "2025-09-08T18:34:31.895843Z"
    }
   },
   "source": [
    "plt.figure(figsize=(8, 5))\n",
    "plt.bar(token_count['label'], token_count['mean'], yerr=token_count['std'],\n",
    "        capsize=10, alpha=0.8, color='green')\n",
    "plt.xlabel('CEFR_level')\n",
    "plt.ylabel('Tokens each text')\n",
    "plt.title('Average number of tokens each text')\n",
    "plt.grid(axis='y', alpha=0.3)\n",
    "plt.savefig('Illustrations/Dataset_analysis/token_text.png')\n",
    "plt.show()"
   ],
   "outputs": [
    {
     "data": {
      "text/plain": [
       "<Figure size 800x500 with 1 Axes>"
      ],
      "image/png": "[encoded data removed]"
     },
     "metadata": {},
     "output_type": "display_data"
    }
   ],
   "execution_count": 23
  },
  {
   "cell_type": "code",
   "metadata": {
    "ExecuteTime": {
     "end_time": "2025-09-08T18:34:32.413778Z",
     "start_time": "2025-09-08T18:34:32.405826Z"
    }
   },
   "source": [
    "avg_len_each_sent = df.groupby('label')['avg_len_each_sent'].agg(['mean', 'std']).reset_index().round(2)\n",
    "avg_len_each_sent.attrs['title'] = \"Average number of tokens each sentence\"\n",
    "avg_len_each_sent"
   ],
   "outputs": [
    {
     "data": {
      "text/plain": [
       "  label   mean   std\n",
       "0    A1   7.52  1.84\n",
       "1    A2  12.05  3.81\n",
       "2    B1  18.25  4.18\n",
       "3    B2  21.29  3.92\n",
       "4    C1  25.33  4.19\n",
       "5    C2  30.70  6.02"
      ],
      "text/html": [
       "<div>\n",
       "<style scoped>\n",
       "    .dataframe tbody tr th:only-of-type {\n",
       "        vertical-align: middle;\n",
       "    }\n",
       "\n",
       "    .dataframe tbody tr th {\n",
       "        vertical-align: top;\n",
       "    }\n",
       "\n",
       "    .dataframe thead th {\n",
       "        text-align: right;\n",
       "    }\n",
       "</style>\n",
       "<table border=\"1\" class=\"dataframe\">\n",
       "  <thead>\n",
       "    <tr style=\"text-align: right;\">\n",
       "      <th></th>\n",
       "      <th>label</th>\n",
       "      <th>mean</th>\n",
       "      <th>std</th>\n",
       "    </tr>\n",
       "  </thead>\n",
       "  <tbody>\n",
       "    <tr>\n",
       "      <th>0</th>\n",
       "      <td>A1</td>\n",
       "      <td>7.52</td>\n",
       "      <td>1.84</td>\n",
       "    </tr>\n",
       "    <tr>\n",
       "      <th>1</th>\n",
       "      <td>A2</td>\n",
       "      <td>12.05</td>\n",
       "      <td>3.81</td>\n",
       "    </tr>\n",
       "    <tr>\n",
       "      <th>2</th>\n",
       "      <td>B1</td>\n",
       "      <td>18.25</td>\n",
       "      <td>4.18</td>\n",
       "    </tr>\n",
       "    <tr>\n",
       "      <th>3</th>\n",
       "      <td>B2</td>\n",
       "      <td>21.29</td>\n",
       "      <td>3.92</td>\n",
       "    </tr>\n",
       "    <tr>\n",
       "      <th>4</th>\n",
       "      <td>C1</td>\n",
       "      <td>25.33</td>\n",
       "      <td>4.19</td>\n",
       "    </tr>\n",
       "    <tr>\n",
       "      <th>5</th>\n",
       "      <td>C2</td>\n",
       "      <td>30.70</td>\n",
       "      <td>6.02</td>\n",
       "    </tr>\n",
       "  </tbody>\n",
       "</table>\n",
       "</div>"
      ]
     },
     "execution_count": 24,
     "metadata": {},
     "output_type": "execute_result"
    }
   ],
   "execution_count": 24
  },
  {
   "cell_type": "code",
   "metadata": {
    "ExecuteTime": {
     "end_time": "2025-09-08T18:34:33.419197Z",
     "start_time": "2025-09-08T18:34:33.342993Z"
    }
   },
   "source": [
    "plt.figure(figsize=(8, 5))\n",
    "plt.bar(avg_len_each_sent['label'], avg_len_each_sent['mean'], yerr=avg_len_each_sent['std'],\n",
    "        capsize=10, alpha=0.8, color='green')\n",
    "plt.xlabel('CEFR_level')\n",
    "plt.ylabel('Tokens each sentence')\n",
    "plt.title('Average number of tokens each sentence')\n",
    "plt.grid(axis='y', alpha=0.3)\n",
    "plt.savefig('Illustrations/Dataset_analysis/token_sent.png')\n",
    "plt.show()"
   ],
   "outputs": [
    {
     "data": {
      "text/plain": [
       "<Figure size 800x500 with 1 Axes>"
      ],
      "image/png": "[encoded data removed]"
     },
     "metadata": {},
     "output_type": "display_data"
    }
   ],
   "execution_count": 25
  },
  {
   "cell_type": "code",
   "metadata": {
    "ExecuteTime": {
     "end_time": "2025-09-08T18:34:37.945058Z",
     "start_time": "2025-09-08T18:34:37.934046Z"
    }
   },
   "source": [
    "level_speed = {'A1': 5.65, 'A2': 2.91, 'B1': 1.62, 'B2': 1.36, 'C1': 1.00, 'C2': 0.91}\n",
    "\n",
    "# Convert to DataFrame with two columns\n",
    "level_speed = pd.DataFrame(list(level_speed.items()), columns=['CEFR_Level', 'Text/s'])\n",
    "level_speed"
   ],
   "outputs": [
    {
     "data": {
      "text/plain": [
       "  CEFR_Level  Text/s\n",
       "0         A1    5.65\n",
       "1         A2    2.91\n",
       "2         B1    1.62\n",
       "3         B2    1.36\n",
       "4         C1    1.00\n",
       "5         C2    0.91"
      ],
      "text/html": [
       "<div>\n",
       "<style scoped>\n",
       "    .dataframe tbody tr th:only-of-type {\n",
       "        vertical-align: middle;\n",
       "    }\n",
       "\n",
       "    .dataframe tbody tr th {\n",
       "        vertical-align: top;\n",
       "    }\n",
       "\n",
       "    .dataframe thead th {\n",
       "        text-align: right;\n",
       "    }\n",
       "</style>\n",
       "<table border=\"1\" class=\"dataframe\">\n",
       "  <thead>\n",
       "    <tr style=\"text-align: right;\">\n",
       "      <th></th>\n",
       "      <th>CEFR_Level</th>\n",
       "      <th>Text/s</th>\n",
       "    </tr>\n",
       "  </thead>\n",
       "  <tbody>\n",
       "    <tr>\n",
       "      <th>0</th>\n",
       "      <td>A1</td>\n",
       "      <td>5.65</td>\n",
       "    </tr>\n",
       "    <tr>\n",
       "      <th>1</th>\n",
       "      <td>A2</td>\n",
       "      <td>2.91</td>\n",
       "    </tr>\n",
       "    <tr>\n",
       "      <th>2</th>\n",
       "      <td>B1</td>\n",
       "      <td>1.62</td>\n",
       "    </tr>\n",
       "    <tr>\n",
       "      <th>3</th>\n",
       "      <td>B2</td>\n",
       "      <td>1.36</td>\n",
       "    </tr>\n",
       "    <tr>\n",
       "      <th>4</th>\n",
       "      <td>C1</td>\n",
       "      <td>1.00</td>\n",
       "    </tr>\n",
       "    <tr>\n",
       "      <th>5</th>\n",
       "      <td>C2</td>\n",
       "      <td>0.91</td>\n",
       "    </tr>\n",
       "  </tbody>\n",
       "</table>\n",
       "</div>"
      ]
     },
     "execution_count": 26,
     "metadata": {},
     "output_type": "execute_result"
    }
   ],
   "execution_count": 26
  },
  {
   "metadata": {
    "ExecuteTime": {
     "end_time": "2025-09-08T18:34:38.868794Z",
     "start_time": "2025-09-08T18:34:38.856674Z"
    }
   },
   "cell_type": "code",
   "source": [
    "level_speed = level_speed.join(token_count)\n",
    "level_speed"
   ],
   "outputs": [
    {
     "data": {
      "text/plain": [
       "  CEFR_Level  Text/s label    mean     std\n",
       "0         A1    5.65    A1  119.80   39.71\n",
       "1         A2    2.91    A2  270.50  138.51\n",
       "2         B1    1.62    B1  472.38  338.45\n",
       "3         B2    1.36    B2  574.36  331.77\n",
       "4         C1    1.00    C1  786.19  347.91\n",
       "5         C2    0.91    C2  804.36  349.39"
      ],
      "text/html": [
       "<div>\n",
       "<style scoped>\n",
       "    .dataframe tbody tr th:only-of-type {\n",
       "        vertical-align: middle;\n",
       "    }\n",
       "\n",
       "    .dataframe tbody tr th {\n",
       "        vertical-align: top;\n",
       "    }\n",
       "\n",
       "    .dataframe thead th {\n",
       "        text-align: right;\n",
       "    }\n",
       "</style>\n",
       "<table border=\"1\" class=\"dataframe\">\n",
       "  <thead>\n",
       "    <tr style=\"text-align: right;\">\n",
       "      <th></th>\n",
       "      <th>CEFR_Level</th>\n",
       "      <th>Text/s</th>\n",
       "      <th>label</th>\n",
       "      <th>mean</th>\n",
       "      <th>std</th>\n",
       "    </tr>\n",
       "  </thead>\n",
       "  <tbody>\n",
       "    <tr>\n",
       "      <th>0</th>\n",
       "      <td>A1</td>\n",
       "      <td>5.65</td>\n",
       "      <td>A1</td>\n",
       "      <td>119.80</td>\n",
       "      <td>39.71</td>\n",
       "    </tr>\n",
       "    <tr>\n",
       "      <th>1</th>\n",
       "      <td>A2</td>\n",
       "      <td>2.91</td>\n",
       "      <td>A2</td>\n",
       "      <td>270.50</td>\n",
       "      <td>138.51</td>\n",
       "    </tr>\n",
       "    <tr>\n",
       "      <th>2</th>\n",
       "      <td>B1</td>\n",
       "      <td>1.62</td>\n",
       "      <td>B1</td>\n",
       "      <td>472.38</td>\n",
       "      <td>338.45</td>\n",
       "    </tr>\n",
       "    <tr>\n",
       "      <th>3</th>\n",
       "      <td>B2</td>\n",
       "      <td>1.36</td>\n",
       "      <td>B2</td>\n",
       "      <td>574.36</td>\n",
       "      <td>331.77</td>\n",
       "    </tr>\n",
       "    <tr>\n",
       "      <th>4</th>\n",
       "      <td>C1</td>\n",
       "      <td>1.00</td>\n",
       "      <td>C1</td>\n",
       "      <td>786.19</td>\n",
       "      <td>347.91</td>\n",
       "    </tr>\n",
       "    <tr>\n",
       "      <th>5</th>\n",
       "      <td>C2</td>\n",
       "      <td>0.91</td>\n",
       "      <td>C2</td>\n",
       "      <td>804.36</td>\n",
       "      <td>349.39</td>\n",
       "    </tr>\n",
       "  </tbody>\n",
       "</table>\n",
       "</div>"
      ]
     },
     "execution_count": 27,
     "metadata": {},
     "output_type": "execute_result"
    }
   ],
   "execution_count": 27
  },
  {
   "metadata": {
    "ExecuteTime": {
     "end_time": "2025-09-08T18:34:42.039736Z",
     "start_time": "2025-09-08T18:34:42.034396Z"
    }
   },
   "cell_type": "code",
   "source": [
    "level_speed[\"Token/s\"] = level_speed.apply(lambda row: row[\"Text/s\"] * row[\"mean\"], axis=1)\n",
    "level_speed"
   ],
   "outputs": [
    {
     "data": {
      "text/plain": [
       "  CEFR_Level  Text/s label    mean     std   Token/s\n",
       "0         A1    5.65    A1  119.80   39.71  676.8700\n",
       "1         A2    2.91    A2  270.50  138.51  787.1550\n",
       "2         B1    1.62    B1  472.38  338.45  765.2556\n",
       "3         B2    1.36    B2  574.36  331.77  781.1296\n",
       "4         C1    1.00    C1  786.19  347.91  786.1900\n",
       "5         C2    0.91    C2  804.36  349.39  731.9676"
      ],
      "text/html": [
       "<div>\n",
       "<style scoped>\n",
       "    .dataframe tbody tr th:only-of-type {\n",
       "        vertical-align: middle;\n",
       "    }\n",
       "\n",
       "    .dataframe tbody tr th {\n",
       "        vertical-align: top;\n",
       "    }\n",
       "\n",
       "    .dataframe thead th {\n",
       "        text-align: right;\n",
       "    }\n",
       "</style>\n",
       "<table border=\"1\" class=\"dataframe\">\n",
       "  <thead>\n",
       "    <tr style=\"text-align: right;\">\n",
       "      <th></th>\n",
       "      <th>CEFR_Level</th>\n",
       "      <th>Text/s</th>\n",
       "      <th>label</th>\n",
       "      <th>mean</th>\n",
       "      <th>std</th>\n",
       "      <th>Token/s</th>\n",
       "    </tr>\n",
       "  </thead>\n",
       "  <tbody>\n",
       "    <tr>\n",
       "      <th>0</th>\n",
       "      <td>A1</td>\n",
       "      <td>5.65</td>\n",
       "      <td>A1</td>\n",
       "      <td>119.80</td>\n",
       "      <td>39.71</td>\n",
       "      <td>676.8700</td>\n",
       "    </tr>\n",
       "    <tr>\n",
       "      <th>1</th>\n",
       "      <td>A2</td>\n",
       "      <td>2.91</td>\n",
       "      <td>A2</td>\n",
       "      <td>270.50</td>\n",
       "      <td>138.51</td>\n",
       "      <td>787.1550</td>\n",
       "    </tr>\n",
       "    <tr>\n",
       "      <th>2</th>\n",
       "      <td>B1</td>\n",
       "      <td>1.62</td>\n",
       "      <td>B1</td>\n",
       "      <td>472.38</td>\n",
       "      <td>338.45</td>\n",
       "      <td>765.2556</td>\n",
       "    </tr>\n",
       "    <tr>\n",
       "      <th>3</th>\n",
       "      <td>B2</td>\n",
       "      <td>1.36</td>\n",
       "      <td>B2</td>\n",
       "      <td>574.36</td>\n",
       "      <td>331.77</td>\n",
       "      <td>781.1296</td>\n",
       "    </tr>\n",
       "    <tr>\n",
       "      <th>4</th>\n",
       "      <td>C1</td>\n",
       "      <td>1.00</td>\n",
       "      <td>C1</td>\n",
       "      <td>786.19</td>\n",
       "      <td>347.91</td>\n",
       "      <td>786.1900</td>\n",
       "    </tr>\n",
       "    <tr>\n",
       "      <th>5</th>\n",
       "      <td>C2</td>\n",
       "      <td>0.91</td>\n",
       "      <td>C2</td>\n",
       "      <td>804.36</td>\n",
       "      <td>349.39</td>\n",
       "      <td>731.9676</td>\n",
       "    </tr>\n",
       "  </tbody>\n",
       "</table>\n",
       "</div>"
      ]
     },
     "execution_count": 28,
     "metadata": {},
     "output_type": "execute_result"
    }
   ],
   "execution_count": 28
  },
  {
   "metadata": {
    "ExecuteTime": {
     "end_time": "2025-09-08T18:34:44.177973Z",
     "start_time": "2025-09-08T18:34:44.088912Z"
    }
   },
   "cell_type": "code",
   "source": [
    "plt.figure(figsize=(8, 5))\n",
    "plt.bar(level_speed['CEFR_Level'], level_speed['Token/s'],\n",
    "        capsize=10, alpha=0.8, color='green')\n",
    "plt.xlabel('CEFR_level')\n",
    "plt.ylabel('Tagging Speed: Token/s')\n",
    "plt.title('Stanza Tagging Speed and CEFR Level')\n",
    "plt.grid(axis='y', alpha=0.3)\n",
    "plt.savefig('Illustrations/Dataset_analysis/tagging_speed.png')\n",
    "plt.show()"
   ],
   "outputs": [
    {
     "data": {
      "text/plain": [
       "<Figure size 800x500 with 1 Axes>"
      ],
      "image/png": "[encoded data removed]"
     },
     "metadata": {},
     "output_type": "display_data"
    }
   ],
   "execution_count": 29
  },
  {
   "metadata": {},
   "cell_type": "code",
   "outputs": [],
   "execution_count": null,
   "source": ""
  }
 ],
 "metadata": {
  "colab": {
   "provenance": []
  },
  "kernelspec": {
   "display_name": "Python 3",
   "language": "python",
   "name": "python3"
  },
  "language_info": {
   "codemirror_mode": {
    "name": "ipython",
    "version": 3
   },
   "file_extension": ".py",
   "mimetype": "text/x-python",
   "name": "python",
   "nbconvert_exporter": "python",
   "pygments_lexer": "ipython3",
   "version": "3.10.8"
  }
 },
 "nbformat": 4,
 "nbformat_minor": 0
}
