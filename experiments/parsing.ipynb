{
 "cells": [
  {
   "cell_type": "code",
   "id": "initial_id",
   "metadata": {
    "collapsed": true
   },
   "source": [
    "import spacy\n",
    "from spacy_conll import init_parser\n",
    "from spacy_conll.parser import ConllParser"
   ],
   "outputs": [],
   "execution_count": null
  },
  {
   "metadata": {},
   "cell_type": "code",
   "source": "!python -m spacy download en_core_web_sm",
   "id": "25855618d79928a4",
   "outputs": [],
   "execution_count": null
  },
  {
   "metadata": {
    "ExecuteTime": {
     "end_time": "2025-08-26T09:27:44.003136Z",
     "start_time": "2025-08-26T09:27:43.791954Z"
    }
   },
   "cell_type": "code",
   "source": [
    "nlp = ConllParser(init_parser(\"en_core_web_sm\", \"spacy\"))\n",
    "\n",
    "# doc = nlp.parse_conll_file_as_spacy(\"dataset/samples/UD/A1_0001.conllu\")\n",
    "\n",
    "conllstr = \"\"\"\n",
    "# text = Well, I'm doing wonderfully in my music class.\n",
    "# sent_id = 7\n",
    "1\tWell\twell\tINTJ\tUH\t_\t5\tdiscourse\t_\tstart_char=262|end_char=266|SpaceAfter=No\n",
    "2\t,\t,\tPUNCT\t,\t_\t1\tpunct\t_\tstart_char=266|end_char=267\n",
    "3-4\tI'm\t_\t_\t_\t_\t_\t_\t_\tstart_char=268|end_char=271\n",
    "3\tI\tI\tPRON\tPRP\tCase=Nom|Number=Sing|Person=1|PronType=Prs\t5\tnsubj\t_\tstart_char=268|end_char=269\n",
    "4\t'm\tbe\tAUX\tVBP\tMood=Ind|Number=Sing|Person=1|Tense=Pres|VerbForm=Fin\t5\taux\t_\tstart_char=269|end_char=271\n",
    "5\tdoing\tdo\tVERB\tVBG\tTense=Pres|VerbForm=Part\t0\troot\t_\tstart_char=272|end_char=277\n",
    "6\twonderfully\twonderfully\tADV\tRB\t_\t5\tadvmod\t_\tstart_char=278|end_char=289\n",
    "7\tin\tin\tADP\tIN\t_\t10\tcase\t_\tstart_char=290|end_char=292\n",
    "8\tmy\tmy\tPRON\tPRP$\tCase=Gen|Number=Sing|Person=1|Poss=Yes|PronType=Prs\t10\tnmod:poss\t_\tstart_char=293|end_char=295\n",
    "9\tmusic\tmusic\tNOUN\tNN\tNumber=Sing\t10\tcompound\t_\tstart_char=296|end_char=301\n",
    "10\tclass\tclass\tNOUN\tNN\tNumber=Sing\t5\tobl\t_\tstart_char=302|end_char=307|SpaceAfter=No\n",
    "11\t.\t.\tPUNCT\t.\t_\t5\tpunct\t_\tstart_char=307|end_char=308|SpacesAfter=\\n\n",
    "\"\"\"\n",
    "doc = nlp.parse_conll_text_as_spacy(conllstr)\n",
    "\n",
    "\n",
    "# Multiple CoNLL entries (separated by two newlines) will be included as different sentences in the resulting Doc\n",
    "for sent in doc.sents:\n",
    "    for token in sent:\n",
    "        print(token.text, token.dep_, token.pos_)"
   ],
   "id": "e7d82e52c9825e77",
   "outputs": [
    {
     "ename": "NotImplementedError",
     "evalue": "Multi-word tokens and empty nodes are not supported in spacy_conll",
     "output_type": "error",
     "traceback": [
      "\u001B[31m---------------------------------------------------------------------------\u001B[39m",
      "\u001B[31mNotImplementedError\u001B[39m                       Traceback (most recent call last)",
      "\u001B[36mCell\u001B[39m\u001B[36m \u001B[39m\u001B[32mIn[16]\u001B[39m\u001B[32m, line 21\u001B[39m\n\u001B[32m      3\u001B[39m \u001B[38;5;66;03m# doc = nlp.parse_conll_file_as_spacy(\"dataset/samples/UD/A1_0001.conllu\")\u001B[39;00m\n\u001B[32m      5\u001B[39m conllstr = \u001B[33m\"\"\"\u001B[39m\n\u001B[32m      6\u001B[39m \u001B[33m# text = Well, I\u001B[39m\u001B[33m'\u001B[39m\u001B[33mm doing wonderfully in my music class.\u001B[39m\n\u001B[32m      7\u001B[39m \u001B[33m# sent_id = 7\u001B[39m\n\u001B[32m   (...)\u001B[39m\u001B[32m     19\u001B[39m \u001B[33m11\t.\t.\tPUNCT\t.\t_\t5\tpunct\t_\tstart_char=307|end_char=308|SpacesAfter=\u001B[39m\u001B[38;5;130;01m\\n\u001B[39;00m\n\u001B[32m     20\u001B[39m \u001B[33m\"\"\"\u001B[39m\n\u001B[32m---> \u001B[39m\u001B[32m21\u001B[39m doc = \u001B[43mnlp\u001B[49m\u001B[43m.\u001B[49m\u001B[43mparse_conll_text_as_spacy\u001B[49m\u001B[43m(\u001B[49m\u001B[43mconllstr\u001B[49m\u001B[43m)\u001B[49m\n\u001B[32m     24\u001B[39m \u001B[38;5;66;03m# Multiple CoNLL entries (separated by two newlines) will be included as different sentences in the resulting Doc\u001B[39;00m\n\u001B[32m     25\u001B[39m \u001B[38;5;28;01mfor\u001B[39;00m sent \u001B[38;5;129;01min\u001B[39;00m doc.sents:\n",
      "\u001B[36mFile \u001B[39m\u001B[32m~/Documents/SUDcom/.venv/lib/python3.12/site-packages/spacy_conll/parser.py:206\u001B[39m, in \u001B[36mConllParser.parse_conll_text_as_spacy\u001B[39m\u001B[34m(self, text, ner_tag_pattern, ner_map)\u001B[39m\n\u001B[32m    200\u001B[39m     \u001B[38;5;28;01mraise\u001B[39;00m \u001B[38;5;167;01mValueError\u001B[39;00m(\n\u001B[32m    201\u001B[39m         \u001B[33m\"\u001B[39m\u001B[33mAccording to the CoNLL-U Format, only FORM, LEMMA, and MISC fields can contain\u001B[39m\u001B[33m\"\u001B[39m\n\u001B[32m    202\u001B[39m         \u001B[33m\"\u001B[39m\u001B[33m spaces. See https://universaldependencies.org/format.html\u001B[39m\u001B[33m\"\u001B[39m\n\u001B[32m    203\u001B[39m     )\n\u001B[32m    205\u001B[39m \u001B[38;5;28;01mif\u001B[39;00m \u001B[33m\"\u001B[39m\u001B[33m.\u001B[39m\u001B[33m\"\u001B[39m \u001B[38;5;129;01min\u001B[39;00m id_ \u001B[38;5;129;01mor\u001B[39;00m \u001B[33m\"\u001B[39m\u001B[33m-\u001B[39m\u001B[33m\"\u001B[39m \u001B[38;5;129;01min\u001B[39;00m id_:\n\u001B[32m--> \u001B[39m\u001B[32m206\u001B[39m     \u001B[38;5;28;01mraise\u001B[39;00m \u001B[38;5;167;01mNotImplementedError\u001B[39;00m(\u001B[33m\"\u001B[39m\u001B[33mMulti-word tokens and empty nodes are not supported in spacy_conll\u001B[39m\u001B[33m\"\u001B[39m)\n\u001B[32m    208\u001B[39m words.append(word)\n\u001B[32m    210\u001B[39m \u001B[38;5;28;01mif\u001B[39;00m \u001B[33m\"\u001B[39m\u001B[33mSpaceAfter=No\u001B[39m\u001B[33m\"\u001B[39m \u001B[38;5;129;01min\u001B[39;00m misc:\n",
      "\u001B[31mNotImplementedError\u001B[39m: Multi-word tokens and empty nodes are not supported in spacy_conll"
     ]
    }
   ],
   "execution_count": 16
  },
  {
   "metadata": {
    "ExecuteTime": {
     "end_time": "2025-08-26T09:34:26.704086Z",
     "start_time": "2025-08-26T09:34:26.610676Z"
    }
   },
   "cell_type": "code",
   "source": [
    "import spacy\n",
    "from spacy import displacy\n",
    "from conllu import parse\n",
    "\n",
    "# Parse CoNLL-U format\n",
    "conllu_data = \"\"\"\n",
    "1\tThe\tthe\tDET\tDT\tDefinite=Def|PronType=Art\t4\tdet\t_\t_\n",
    "2\tquick\tquick\tADJ\tJJ\tDegree=Pos\t4\tamod\t_\t_\n",
    "3\tbrown\tbrown\tADJ\tJJ\tDegree=Pos\t4\tamod\t_\t_\n",
    "4\tfox\tfox\tNOUN\tNN\tNumber=Sing\t5\tnsubj\t_\t_\n",
    "5\tjumps\tjump\tVERB\tVBZ\tMood=Ind|Number=Sing|Person=3|Tense=Pres|VerbForm=Fin\t0\troot\t_\t_\n",
    "\"\"\"\n",
    "\n",
    "def conllu_parsed_to_spacy(parsed_data):\n",
    "    nlp = spacy.blank(\"en\")\n",
    "\n",
    "    for sentence in parsed_data:\n",
    "        words = [token['form'] for token in sentence]\n",
    "        spaces = [False] * len(words)\n",
    "\n",
    "        doc = spacy.tokens.Doc(nlp.vocab, words=words, spaces=spaces)\n",
    "\n",
    "        # Set POS tags and dependencies\n",
    "        for i, token in enumerate(sentence):\n",
    "            doc[i].pos_ = token['upos']\n",
    "            doc[i].dep_ = token['deprel']\n",
    "            head_idx = token['head'] - 1 if token['head'] > 0 else i\n",
    "            doc[i].head = doc[head_idx]\n",
    "\n",
    "        return doc\n",
    "\n",
    "# Parse and visualize\n",
    "parsed = parse(conllu_data)\n",
    "spacy_doc = conllu_parsed_to_spacy(parsed)\n",
    "displacy.serve(spacy_doc, style=\"dep\")"
   ],
   "id": "5bf4c5a0b24a4a90",
   "outputs": [
    {
     "ename": "ImportError",
     "evalue": "cannot import name 'display' from 'IPython.core.display' (/home/cometbridge1998/Documents/SUDcom/.venv/lib/python3.12/site-packages/IPython/core/display.py)",
     "output_type": "error",
     "traceback": [
      "\u001B[31m---------------------------------------------------------------------------\u001B[39m",
      "\u001B[31mImportError\u001B[39m                               Traceback (most recent call last)",
      "\u001B[36mCell\u001B[39m\u001B[36m \u001B[39m\u001B[32mIn[18]\u001B[39m\u001B[32m, line 35\u001B[39m\n\u001B[32m     33\u001B[39m parsed = parse(conllu_data)\n\u001B[32m     34\u001B[39m spacy_doc = conllu_parsed_to_spacy(parsed)\n\u001B[32m---> \u001B[39m\u001B[32m35\u001B[39m \u001B[43mdisplacy\u001B[49m\u001B[43m.\u001B[49m\u001B[43mserve\u001B[49m\u001B[43m(\u001B[49m\u001B[43mspacy_doc\u001B[49m\u001B[43m,\u001B[49m\u001B[43m \u001B[49m\u001B[43mstyle\u001B[49m\u001B[43m=\u001B[49m\u001B[33;43m\"\u001B[39;49m\u001B[33;43mdep\u001B[39;49m\u001B[33;43m\"\u001B[39;49m\u001B[43m)\u001B[49m\n",
      "\u001B[36mFile \u001B[39m\u001B[32m~/Documents/SUDcom/.venv/lib/python3.12/site-packages/spacy/displacy/__init__.py:107\u001B[39m, in \u001B[36mserve\u001B[39m\u001B[34m(docs, style, page, minify, options, manual, port, host, auto_select_port)\u001B[39m\n\u001B[32m    105\u001B[39m \u001B[38;5;28;01mif\u001B[39;00m is_in_jupyter():\n\u001B[32m    106\u001B[39m     warnings.warn(Warnings.W011)\n\u001B[32m--> \u001B[39m\u001B[32m107\u001B[39m \u001B[43mrender\u001B[49m\u001B[43m(\u001B[49m\u001B[43mdocs\u001B[49m\u001B[43m,\u001B[49m\u001B[43m \u001B[49m\u001B[43mstyle\u001B[49m\u001B[43m=\u001B[49m\u001B[43mstyle\u001B[49m\u001B[43m,\u001B[49m\u001B[43m \u001B[49m\u001B[43mpage\u001B[49m\u001B[43m=\u001B[49m\u001B[43mpage\u001B[49m\u001B[43m,\u001B[49m\u001B[43m \u001B[49m\u001B[43mminify\u001B[49m\u001B[43m=\u001B[49m\u001B[43mminify\u001B[49m\u001B[43m,\u001B[49m\u001B[43m \u001B[49m\u001B[43moptions\u001B[49m\u001B[43m=\u001B[49m\u001B[43moptions\u001B[49m\u001B[43m,\u001B[49m\u001B[43m \u001B[49m\u001B[43mmanual\u001B[49m\u001B[43m=\u001B[49m\u001B[43mmanual\u001B[49m\u001B[43m)\u001B[49m\n\u001B[32m    108\u001B[39m httpd = simple_server.make_server(host, port, app)\n\u001B[32m    109\u001B[39m \u001B[38;5;28mprint\u001B[39m(\u001B[33mf\u001B[39m\u001B[33m\"\u001B[39m\u001B[38;5;130;01m\\n\u001B[39;00m\u001B[33mUsing the \u001B[39m\u001B[33m'\u001B[39m\u001B[38;5;132;01m{\u001B[39;00mstyle\u001B[38;5;132;01m}\u001B[39;00m\u001B[33m'\u001B[39m\u001B[33m visualizer\u001B[39m\u001B[33m\"\u001B[39m)\n",
      "\u001B[36mFile \u001B[39m\u001B[32m~/Documents/SUDcom/.venv/lib/python3.12/site-packages/spacy/displacy/__init__.py:69\u001B[39m, in \u001B[36mrender\u001B[39m\u001B[34m(docs, style, page, minify, jupyter, options, manual)\u001B[39m\n\u001B[32m     65\u001B[39m     html = RENDER_WRAPPER(html)\n\u001B[32m     66\u001B[39m \u001B[38;5;28;01mif\u001B[39;00m jupyter \u001B[38;5;129;01mor\u001B[39;00m (jupyter \u001B[38;5;129;01mis\u001B[39;00m \u001B[38;5;28;01mNone\u001B[39;00m \u001B[38;5;129;01mand\u001B[39;00m is_in_jupyter()):\n\u001B[32m     67\u001B[39m     \u001B[38;5;66;03m# return HTML rendered by IPython display()\u001B[39;00m\n\u001B[32m     68\u001B[39m     \u001B[38;5;66;03m# See #4840 for details on span wrapper to disable mathjax\u001B[39;00m\n\u001B[32m---> \u001B[39m\u001B[32m69\u001B[39m     \u001B[38;5;28;01mfrom\u001B[39;00m\u001B[38;5;250m \u001B[39m\u001B[34;01mIPython\u001B[39;00m\u001B[34;01m.\u001B[39;00m\u001B[34;01mcore\u001B[39;00m\u001B[34;01m.\u001B[39;00m\u001B[34;01mdisplay\u001B[39;00m\u001B[38;5;250m \u001B[39m\u001B[38;5;28;01mimport\u001B[39;00m HTML, display\n\u001B[32m     71\u001B[39m     \u001B[38;5;28;01mreturn\u001B[39;00m display(HTML(\u001B[33m'\u001B[39m\u001B[33m<span class=\u001B[39m\u001B[33m\"\u001B[39m\u001B[33mtex2jax_ignore\u001B[39m\u001B[33m\"\u001B[39m\u001B[33m>\u001B[39m\u001B[38;5;132;01m{}\u001B[39;00m\u001B[33m</span>\u001B[39m\u001B[33m'\u001B[39m.format(html)))\n\u001B[32m     72\u001B[39m \u001B[38;5;28;01mreturn\u001B[39;00m html\n",
      "\u001B[31mImportError\u001B[39m: cannot import name 'display' from 'IPython.core.display' (/home/cometbridge1998/Documents/SUDcom/.venv/lib/python3.12/site-packages/IPython/core/display.py)"
     ]
    }
   ],
   "execution_count": 18
  },
  {
   "metadata": {},
   "cell_type": "code",
   "outputs": [],
   "execution_count": null,
   "source": "",
   "id": "3370bc79296f8000"
  }
 ],
 "metadata": {
  "kernelspec": {
   "display_name": "Python 3",
   "language": "python",
   "name": "python3"
  },
  "language_info": {
   "codemirror_mode": {
    "name": "ipython",
    "version": 2
   },
   "file_extension": ".py",
   "mimetype": "text/x-python",
   "name": "python",
   "nbconvert_exporter": "python",
   "pygments_lexer": "ipython2",
   "version": "2.7.6"
  }
 },
 "nbformat": 4,
 "nbformat_minor": 5
}
