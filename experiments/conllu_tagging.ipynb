{
 "cells": [
  {
   "cell_type": "code",
   "execution_count": 2,
   "id": "1dd516c1",
   "metadata": {},
   "outputs": [],
   "source": [
    "import os, re, html, pandas as pd, stanza, pathlib, torch\n",
    "from tqdm import tqdm\n",
    "from stanza.utils.conll import CoNLL"
   ]
  },
  {
   "cell_type": "code",
   "execution_count": 3,
   "id": "77d6b93d",
   "metadata": {},
   "outputs": [],
   "source": [
    "BASE_DIR = pathlib.Path('C:/Users/Vignir/PycharmProjects/SUDcom/dataset')  \n",
    "FILES = [\n",
    "    BASE_DIR / 'A1.csv',\n",
    "    BASE_DIR / 'B2.csv',\n",
    "    BASE_DIR / 'C2.csv',\n",
    "    BASE_DIR / 'cefr_leveled_texts.csv',    \n",
    "]\n",
    "LANG  = \"en\"\n",
    "dfs = []\n",
    "for f in FILES:\n",
    "    if os.path.exists(f):\n",
    "        dfs.append(pd.read_csv(f, encoding=\"utf-8\"))\n",
    "if not dfs:\n",
    "    raise FileNotFoundError(\"None of the CSVs were found. Check FILES paths.\")\n",
    "data = pd.concat(dfs, ignore_index=True)\n",
    "if \"text\" not in data.columns:\n",
    "    raise ValueError(\"CSV must contain a 'text' column.\")\n",
    "data = data.dropna(subset=[\"text\"]).reset_index(drop=True)"
   ]
  },
  {
   "cell_type": "code",
   "execution_count": 4,
   "id": "4c6422f3",
   "metadata": {},
   "outputs": [],
   "source": [
    "#Optional for testing\n",
    "data = data.head(200)"
   ]
  },
  {
   "cell_type": "code",
   "execution_count": 5,
   "id": "595949b4",
   "metadata": {},
   "outputs": [],
   "source": [
    "stanza.download(LANG, processors=\"tokenize,mwt,pos,lemma,depparse\", verbose=False)\n",
    "USE_GPU = False\n",
    "try:\n",
    "    import torch\n",
    "    USE_GPU = torch.cuda.is_available()\n",
    "except Exception:\n",
    "    pass\n",
    "nlp = stanza.Pipeline(LANG, processors=\"tokenize,mwt,pos,lemma,depparse\",use_gpu=USE_GPU, verbose=False)"
   ]
  },
  {
   "cell_type": "code",
   "execution_count": 6,
   "id": "ebf7b859",
   "metadata": {},
   "outputs": [
    {
     "name": "stderr",
     "output_type": "stream",
     "text": [
      "100%|██████████| 200/200 [03:58<00:00,  1.19s/it]\n"
     ]
    }
   ],
   "source": [
    "TEMPLATE = \"tagged-stanza/{:06d}.conllu\"\n",
    "os.makedirs(\"tagged-stanza\", exist_ok=True)\n",
    "#%env OMP_NUM_THREADS=4\n",
    "\n",
    "for i, txt in tqdm(enumerate(data[\"text\"].astype(str), start=1), total=len(data)):\n",
    "    doc = nlp(txt)\n",
    "    # This writes a NEW file per document (row)\n",
    "    CoNLL.write_doc2conll(doc, TEMPLATE.format(i))"
   ]
  }
 ],
 "metadata": {
  "kernelspec": {
   "display_name": "Python 3",
   "language": "python",
   "name": "python3"
  },
  "language_info": {
   "codemirror_mode": {
    "name": "ipython",
    "version": 3
   },
   "file_extension": ".py",
   "mimetype": "text/x-python",
   "name": "python",
   "nbconvert_exporter": "python",
   "pygments_lexer": "ipython3",
   "version": "3.10.8"
  }
 },
 "nbformat": 4,
 "nbformat_minor": 5
}
