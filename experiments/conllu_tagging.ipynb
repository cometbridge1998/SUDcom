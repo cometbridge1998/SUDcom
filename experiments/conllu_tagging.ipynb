{
 "cells": [
  {
   "cell_type": "code",
   "id": "1dd516c1",
   "metadata": {},
   "source": [
    "import os, re, html, pandas as pd, stanza, pathlib, torch\n",
    "from tqdm import tqdm\n",
    "from stanza.utils.conll import CoNLL"
   ],
   "outputs": [],
   "execution_count": null
  },
  {
   "cell_type": "code",
   "id": "77d6b93d",
   "metadata": {
    "ExecuteTime": {
     "end_time": "2025-09-08T18:37:28.663704Z",
     "start_time": "2025-09-08T18:37:28.615202Z"
    }
   },
   "source": [
    "BASE_DIR = pathlib.Path('dataset')\n",
    "FILES = [\n",
    "    BASE_DIR / 'A1.csv',\n",
    "    BASE_DIR / 'A2.csv',\n",
    "    BASE_DIR / 'B1.csv',\n",
    "    BASE_DIR / 'B2.csv',\n",
    "    BASE_DIR / 'C1.csv',\n",
    "    BASE_DIR / 'C2.csv',\n",
    "]\n",
    "LANG  = \"en\"\n",
    "dfs = []\n",
    "for f in FILES:\n",
    "    if os.path.exists(f):\n",
    "        dfs.append(pd.read_csv(f, encoding=\"utf-8\"))\n",
    "if not dfs:\n",
    "    raise FileNotFoundError(\"None of the CSVs were found. Check FILES paths.\")\n",
    "data = pd.concat(dfs, ignore_index=True)\n",
    "if \"text\" not in data.columns:\n",
    "    raise ValueError(\"CSV must contain a 'text' column.\")\n",
    "data = data.dropna(subset=[\"text\"]).reset_index(drop=True)"
   ],
   "outputs": [],
   "execution_count": 4
  },
  {
   "cell_type": "code",
   "id": "4c6422f3",
   "metadata": {
    "ExecuteTime": {
     "end_time": "2025-09-08T18:37:32.722217Z",
     "start_time": "2025-09-08T18:37:32.717678Z"
    }
   },
   "source": [
    "#Optional for testing\n",
    "# data = data.head(200)\n",
    "levels = data.label.unique()"
   ],
   "outputs": [],
   "execution_count": 5
  },
  {
   "cell_type": "code",
   "id": "595949b4",
   "metadata": {
    "ExecuteTime": {
     "end_time": "2025-09-08T18:37:39.182832Z",
     "start_time": "2025-09-08T18:37:36.297055Z"
    }
   },
   "source": [
    "stanza.download(LANG, processors=\"tokenize,mwt,pos,lemma,depparse\", verbose=False)\n",
    "USE_GPU = False\n",
    "try:\n",
    "    import torch\n",
    "    USE_GPU = torch.cuda.is_available()\n",
    "except Exception:\n",
    "    pass\n",
    "nlp = stanza.Pipeline(LANG, processors=\"tokenize,mwt,pos,lemma,depparse\",use_gpu=USE_GPU, verbose=False)"
   ],
   "outputs": [],
   "execution_count": 6
  },
  {
   "metadata": {
    "ExecuteTime": {
     "end_time": "2025-08-25T08:23:45.498987Z",
     "start_time": "2025-08-25T08:23:45.494274Z"
    }
   },
   "cell_type": "code",
   "source": "os.makedirs(\"dataset/tagged-stanza\", exist_ok=True)",
   "id": "24f3d6718fd5dce4",
   "outputs": [],
   "execution_count": 19
  },
  {
   "cell_type": "code",
   "id": "ebf7b859",
   "metadata": {
    "ExecuteTime": {
     "end_time": "2025-09-08T18:55:34.245002Z",
     "start_time": "2025-09-08T18:40:03.333065Z"
    }
   },
   "source": [
    "for l in levels:\n",
    "    cefr = data[data[\"label\"]==l]\n",
    "    TEMPLATE = \"dataset/tagged-stanza/{}_{:04d}.conllu\"\n",
    "    for i, txt in tqdm(enumerate(cefr[\"text\"].astype(str), start=1), total=len(data)):\n",
    "        doc = nlp(txt)\n",
    "        # This writes a NEW file per document (row)\n",
    "        CoNLL.write_doc2conll(doc, TEMPLATE.format(l, i))"
   ],
   "outputs": [
    {
     "name": "stderr",
     "output_type": "stream",
     "text": [
      " 19%|████████▎                                   | 282/1488 [00:45<03:14,  6.18it/s]\n",
      " 18%|████████                                    | 272/1488 [01:34<07:03,  2.87it/s]\n",
      " 14%|██████                                      | 205/1488 [02:05<13:06,  1.63it/s]\n",
      " 19%|████████▍                                   | 286/1488 [03:27<14:33,  1.38it/s]\n",
      " 16%|███████▏                                    | 241/1488 [03:59<20:39,  1.01it/s]\n",
      " 14%|█████▉                                      | 202/1488 [03:37<23:05,  1.08s/it]\n"
     ]
    }
   ],
   "execution_count": 8
  },
  {
   "metadata": {
    "ExecuteTime": {
     "end_time": "2025-09-08T18:55:50.465610Z",
     "start_time": "2025-09-08T18:55:50.455760Z"
    }
   },
   "cell_type": "code",
   "source": "levels",
   "id": "2c2712767f8a2d4b",
   "outputs": [
    {
     "data": {
      "text/plain": [
       "array(['A1', 'A2', 'B1', 'B2', 'C1', 'C2'], dtype=object)"
      ]
     },
     "execution_count": 9,
     "metadata": {},
     "output_type": "execute_result"
    }
   ],
   "execution_count": 9
  },
  {
   "metadata": {
    "ExecuteTime": {
     "end_time": "2025-08-26T08:08:43.117317Z",
     "start_time": "2025-08-26T08:08:43.115771Z"
    }
   },
   "cell_type": "code",
   "source": "",
   "id": "aca13fc7a2125b3c",
   "outputs": [],
   "execution_count": null
  }
 ],
 "metadata": {
  "kernelspec": {
   "display_name": "Python 3",
   "language": "python",
   "name": "python3"
  },
  "language_info": {
   "codemirror_mode": {
    "name": "ipython",
    "version": 3
   },
   "file_extension": ".py",
   "mimetype": "text/x-python",
   "name": "python",
   "nbconvert_exporter": "python",
   "pygments_lexer": "ipython3",
   "version": "3.10.8"
  }
 },
 "nbformat": 4,
 "nbformat_minor": 5
}
